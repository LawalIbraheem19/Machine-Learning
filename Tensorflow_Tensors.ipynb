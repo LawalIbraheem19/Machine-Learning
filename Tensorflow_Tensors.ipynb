{
  "nbformat": 4,
  "nbformat_minor": 0,
  "metadata": {
    "colab": {
      "provenance": [],
      "authorship_tag": "ABX9TyP82+IAscYYIPDhP4Ts8SUJ",
      "include_colab_link": true
    },
    "kernelspec": {
      "name": "python3",
      "display_name": "Python 3"
    },
    "language_info": {
      "name": "python"
    }
  },
  "cells": [
    {
      "cell_type": "markdown",
      "metadata": {
        "id": "view-in-github",
        "colab_type": "text"
      },
      "source": [
        "<a href=\"https://colab.research.google.com/github/LawalIbraheem19/Machine-Learning/blob/main/Tensorflow_Tensors.ipynb\" target=\"_parent\"><img src=\"https://colab.research.google.com/assets/colab-badge.svg\" alt=\"Open In Colab\"/></a>"
      ]
    },
    {
      "cell_type": "code",
      "execution_count": 1,
      "metadata": {
        "id": "Iwd1M3LHM6Kh"
      },
      "outputs": [],
      "source": [
        "import tensorflow as tf\n",
        "import numpy as np"
      ]
    },
    {
      "cell_type": "code",
      "source": [
        "zero_dim = tf.constant(42)\n",
        "print(zero_dim)"
      ],
      "metadata": {
        "colab": {
          "base_uri": "https://localhost:8080/"
        },
        "id": "virPq_XsyuNy",
        "outputId": "d3dd73a6-8d74-49ee-ce55-7b8d0b8d95a9"
      },
      "execution_count": 2,
      "outputs": [
        {
          "output_type": "stream",
          "name": "stdout",
          "text": [
            "tf.Tensor(42, shape=(), dtype=int32)\n"
          ]
        }
      ]
    },
    {
      "cell_type": "code",
      "source": [
        "one_dim = tf.constant([1, 2, 3])\n",
        "print(one_dim)"
      ],
      "metadata": {
        "colab": {
          "base_uri": "https://localhost:8080/"
        },
        "id": "VCz2LcIzzAVH",
        "outputId": "6561c0cc-1951-41c4-fc9d-d2f7baf39283"
      },
      "execution_count": 3,
      "outputs": [
        {
          "output_type": "stream",
          "name": "stdout",
          "text": [
            "tf.Tensor([1 2 3], shape=(3,), dtype=int32)\n"
          ]
        }
      ]
    },
    {
      "cell_type": "code",
      "source": [
        "two_dim = tf.constant([\n",
        "    [1, 2, 3],\n",
        "    [4, 5, 6]\n",
        "]\n",
        "                      )\n",
        "print(two_dim)"
      ],
      "metadata": {
        "colab": {
          "base_uri": "https://localhost:8080/"
        },
        "id": "RkAqMzuHzmZX",
        "outputId": "1df5b07e-492b-4adb-c9c9-b1dee13de910"
      },
      "execution_count": 4,
      "outputs": [
        {
          "output_type": "stream",
          "name": "stdout",
          "text": [
            "tf.Tensor(\n",
            "[[1 2 3]\n",
            " [4 5 6]], shape=(2, 3), dtype=int32)\n"
          ]
        }
      ]
    },
    {
      "cell_type": "code",
      "source": [
        "three_dim = tf.constant([\n",
        "\n",
        "])"
      ],
      "metadata": {
        "id": "tksExsJjzp-r"
      },
      "execution_count": 5,
      "outputs": []
    },
    {
      "cell_type": "code",
      "source": [
        "tensor_one_dim = tf.constant([2, 0., -3, 8, 90], dtype= tf.float32)\n",
        "print(tensor_one_dim)"
      ],
      "metadata": {
        "colab": {
          "base_uri": "https://localhost:8080/"
        },
        "id": "_lznOCbfmjgJ",
        "outputId": "38a70c7c-5549-481a-cc6e-fcf997b03702"
      },
      "execution_count": 6,
      "outputs": [
        {
          "output_type": "stream",
          "name": "stdout",
          "text": [
            "tf.Tensor([ 2.  0. -3.  8. 90.], shape=(5,), dtype=float32)\n"
          ]
        }
      ]
    },
    {
      "cell_type": "code",
      "source": [
        "casted_tensor = tf.cast(tensor_one_dim, dtype=tf.int16)\n",
        "print(casted_tensor)"
      ],
      "metadata": {
        "colab": {
          "base_uri": "https://localhost:8080/"
        },
        "id": "_WwKiygAnfh8",
        "outputId": "6603504e-de41-4c8b-849b-9eec4b32ce33"
      },
      "execution_count": 7,
      "outputs": [
        {
          "output_type": "stream",
          "name": "stdout",
          "text": [
            "tf.Tensor([ 2  0 -3  8 90], shape=(5,), dtype=int16)\n"
          ]
        }
      ]
    },
    {
      "cell_type": "code",
      "source": [
        "casted_tensor_bool = tf.cast(tensor_one_dim, dtype=tf.bool)\n",
        "print(casted_tensor_bool)"
      ],
      "metadata": {
        "colab": {
          "base_uri": "https://localhost:8080/"
        },
        "id": "3IVIU6Mnny6E",
        "outputId": "450efae4-c0e1-4283-b308-9f1670ccaf89"
      },
      "execution_count": 8,
      "outputs": [
        {
          "output_type": "stream",
          "name": "stdout",
          "text": [
            "tf.Tensor([ True False  True  True  True], shape=(5,), dtype=bool)\n"
          ]
        }
      ]
    },
    {
      "cell_type": "code",
      "source": [
        "np_array = np.array([1, 2, 3])\n",
        "print(np_array)"
      ],
      "metadata": {
        "colab": {
          "base_uri": "https://localhost:8080/"
        },
        "id": "I3PvuI2qn4TO",
        "outputId": "dec39616-44d4-428f-8940-4241c47c012b"
      },
      "execution_count": 9,
      "outputs": [
        {
          "output_type": "stream",
          "name": "stdout",
          "text": [
            "[1 2 3]\n"
          ]
        }
      ]
    },
    {
      "cell_type": "code",
      "source": [
        "converted_tensor = tf.convert_to_tensor(np_array)\n",
        "print(converted_tensor)"
      ],
      "metadata": {
        "colab": {
          "base_uri": "https://localhost:8080/"
        },
        "id": "R97sLfcsonpm",
        "outputId": "248fc40a-9995-4a71-bd37-2d64e2be4ce8"
      },
      "execution_count": 10,
      "outputs": [
        {
          "output_type": "stream",
          "name": "stdout",
          "text": [
            "tf.Tensor([1 2 3], shape=(3,), dtype=int64)\n"
          ]
        }
      ]
    },
    {
      "cell_type": "code",
      "source": [
        "eye_tensor= tf.eye(\n",
        "    num_rows=4,\n",
        "    num_columns=5,\n",
        "    batch_shape = [2,],\n",
        "    dtype=tf.float32\n",
        ")\n",
        "print(eye_tensor)"
      ],
      "metadata": {
        "colab": {
          "base_uri": "https://localhost:8080/"
        },
        "id": "dCDJZuLyp5yM",
        "outputId": "beae35f1-a5cd-4dad-b97c-44faab67442f"
      },
      "execution_count": 11,
      "outputs": [
        {
          "output_type": "stream",
          "name": "stdout",
          "text": [
            "tf.Tensor(\n",
            "[[[1. 0. 0. 0. 0.]\n",
            "  [0. 1. 0. 0. 0.]\n",
            "  [0. 0. 1. 0. 0.]\n",
            "  [0. 0. 0. 1. 0.]]\n",
            "\n",
            " [[1. 0. 0. 0. 0.]\n",
            "  [0. 1. 0. 0. 0.]\n",
            "  [0. 0. 1. 0. 0.]\n",
            "  [0. 0. 0. 1. 0.]]], shape=(2, 4, 5), dtype=float32)\n"
          ]
        }
      ]
    },
    {
      "cell_type": "code",
      "source": [
        "three_eye_tensor = 3* eye_tensor"
      ],
      "metadata": {
        "id": "I0YE_-ibrJUC"
      },
      "execution_count": 12,
      "outputs": []
    },
    {
      "cell_type": "code",
      "source": [
        "fill_tensor = tf.fill(\n",
        "    dims=[2, 3],\n",
        "    value=10\n",
        ")\n",
        "print(fill_tensor)"
      ],
      "metadata": {
        "colab": {
          "base_uri": "https://localhost:8080/"
        },
        "id": "EsOeQbY5raj0",
        "outputId": "d51b6ce5-5640-46f5-8b66-830fe91e8329"
      },
      "execution_count": 13,
      "outputs": [
        {
          "output_type": "stream",
          "name": "stdout",
          "text": [
            "tf.Tensor(\n",
            "[[10 10 10]\n",
            " [10 10 10]], shape=(2, 3), dtype=int32)\n"
          ]
        }
      ]
    },
    {
      "cell_type": "code",
      "source": [
        "ones_tensor = tf.ones(\n",
        "    [3,4],\n",
        "    dtype= tf.float32,\n",
        "    name=None\n",
        ")\n",
        "print(ones_tensor)"
      ],
      "metadata": {
        "colab": {
          "base_uri": "https://localhost:8080/"
        },
        "id": "YyTEsgV5uIHG",
        "outputId": "349dec4e-e879-486b-de09-9c2ae1a94866"
      },
      "execution_count": 14,
      "outputs": [
        {
          "output_type": "stream",
          "name": "stdout",
          "text": [
            "tf.Tensor(\n",
            "[[1. 1. 1. 1.]\n",
            " [1. 1. 1. 1.]\n",
            " [1. 1. 1. 1.]], shape=(3, 4), dtype=float32)\n"
          ]
        }
      ]
    },
    {
      "cell_type": "code",
      "source": [
        "zero_tensor = tf.zeros(\n",
        "    [3,4],\n",
        "    dtype= tf.float32,\n",
        "    name=None\n",
        ")\n",
        "print(zero_tensor)"
      ],
      "metadata": {
        "colab": {
          "base_uri": "https://localhost:8080/"
        },
        "id": "sH8ida07u-lD",
        "outputId": "72d9eb1b-f540-463f-9ad9-bc2312600028"
      },
      "execution_count": 15,
      "outputs": [
        {
          "output_type": "stream",
          "name": "stdout",
          "text": [
            "tf.Tensor(\n",
            "[[0. 0. 0. 0.]\n",
            " [0. 0. 0. 0.]\n",
            " [0. 0. 0. 0.]], shape=(3, 4), dtype=float32)\n"
          ]
        }
      ]
    },
    {
      "cell_type": "code",
      "source": [
        "shape_tensor = tf.shape(\n",
        "    converted_tensor,\n",
        "    name=None,\n",
        ")\n",
        "shape_tensor"
      ],
      "metadata": {
        "id": "ZKBz5erHvU7G",
        "colab": {
          "base_uri": "https://localhost:8080/"
        },
        "outputId": "3fa24844-0b59-4f98-fce3-87c88f10f63f"
      },
      "execution_count": 16,
      "outputs": [
        {
          "output_type": "execute_result",
          "data": {
            "text/plain": [
              "<tf.Tensor: shape=(1,), dtype=int32, numpy=array([3], dtype=int32)>"
            ]
          },
          "metadata": {},
          "execution_count": 16
        }
      ]
    },
    {
      "cell_type": "code",
      "source": [
        "rank_tf = tf.rank(\n",
        "    converted_tensor,\n",
        "    name=None\n",
        ")\n",
        "rank_tf"
      ],
      "metadata": {
        "colab": {
          "base_uri": "https://localhost:8080/"
        },
        "id": "vbsD9kDmCly5",
        "outputId": "ecae54f6-7345-4957-9279-2f8df2f02079"
      },
      "execution_count": 17,
      "outputs": [
        {
          "output_type": "execute_result",
          "data": {
            "text/plain": [
              "<tf.Tensor: shape=(), dtype=int32, numpy=1>"
            ]
          },
          "metadata": {},
          "execution_count": 17
        }
      ]
    },
    {
      "cell_type": "code",
      "source": [
        "t = tf.constant([\n",
        "    [1, 3, 5],\n",
        "    [4, 6, 7]\n",
        "    ])\n",
        "print(tf.rank(t))"
      ],
      "metadata": {
        "colab": {
          "base_uri": "https://localhost:8080/"
        },
        "id": "464E8PgTDLFR",
        "outputId": "fc735aba-5b40-4f9c-9938-b2803b47c482"
      },
      "execution_count": 18,
      "outputs": [
        {
          "output_type": "stream",
          "name": "stdout",
          "text": [
            "tf.Tensor(2, shape=(), dtype=int32)\n"
          ]
        }
      ]
    },
    {
      "cell_type": "code",
      "source": [
        "size_tensor = tf.constant([[\n",
        "    [1, 3, 5],\n",
        "    [4, 6, 7]\n",
        "]])\n",
        "print(tf.shape(size_tensor))"
      ],
      "metadata": {
        "colab": {
          "base_uri": "https://localhost:8080/"
        },
        "id": "DjbeBkcEDzUQ",
        "outputId": "104322b9-dff6-4c4c-d067-d7ec16090f52"
      },
      "execution_count": 19,
      "outputs": [
        {
          "output_type": "stream",
          "name": "stdout",
          "text": [
            "tf.Tensor([1 2 3], shape=(3,), dtype=int32)\n"
          ]
        }
      ]
    },
    {
      "cell_type": "code",
      "source": [
        "print(tf.size(size_tensor))"
      ],
      "metadata": {
        "colab": {
          "base_uri": "https://localhost:8080/"
        },
        "id": "60BxMe9zHdbM",
        "outputId": "e70750b9-4fdb-40f0-8f72-eb5d1f26cdaf"
      },
      "execution_count": 20,
      "outputs": [
        {
          "output_type": "stream",
          "name": "stdout",
          "text": [
            "tf.Tensor(6, shape=(), dtype=int32)\n"
          ]
        }
      ]
    },
    {
      "cell_type": "code",
      "source": [
        "random_tf = tf.random.normal(\n",
        "    shape=[4,3],\n",
        "    mean=0.0,\n",
        "    stddev=1.0,\n",
        "    dtype=tf.float32,\n",
        "    seed=None,\n",
        "    name=None\n",
        ")\n",
        "print(random_tf)"
      ],
      "metadata": {
        "colab": {
          "base_uri": "https://localhost:8080/"
        },
        "id": "lN64DKPhWl-0",
        "outputId": "aba7b504-a7fd-4ee2-e3e5-097badbffa1c"
      },
      "execution_count": 21,
      "outputs": [
        {
          "output_type": "stream",
          "name": "stdout",
          "text": [
            "tf.Tensor(\n",
            "[[-0.7010202  -0.36126563 -0.38288948]\n",
            " [-1.204234   -0.27722844  0.6178016 ]\n",
            " [-1.1323646   0.29146206  0.15505157]\n",
            " [ 0.3859994  -1.2923023   0.58502746]], shape=(4, 3), dtype=float32)\n"
          ]
        }
      ]
    },
    {
      "cell_type": "code",
      "source": [
        "uniform_tf = tf.random.uniform(\n",
        "    shape=[4,3],\n",
        "    minval=0,\n",
        "    maxval=5,\n",
        "    dtype=tf.float32,\n",
        "    seed=None,\n",
        "    name=None\n",
        ")\n",
        "print(uniform_tf)"
      ],
      "metadata": {
        "id": "h_ak2Mg-bfuy",
        "colab": {
          "base_uri": "https://localhost:8080/"
        },
        "outputId": "df604ddb-6bfb-49b4-e4ba-fec3f8652885"
      },
      "execution_count": 22,
      "outputs": [
        {
          "output_type": "stream",
          "name": "stdout",
          "text": [
            "tf.Tensor(\n",
            "[[1.1853433  2.3479052  2.91476   ]\n",
            " [4.933919   3.4425516  0.06241739]\n",
            " [0.5958146  1.359635   0.05265236]\n",
            " [4.781575   3.7206388  2.6000066 ]], shape=(4, 3), dtype=float32)\n"
          ]
        }
      ]
    },
    {
      "cell_type": "code",
      "source": [
        "index_tf = tf.constant([3, 2, 6, 5, 8, 10, 45])\n",
        "print(index_tf[0:2])\n",
        "print(index_tf[0:6:2])\n",
        "print(index_tf[::2])\n",
        "print(index_tf[::-1])"
      ],
      "metadata": {
        "colab": {
          "base_uri": "https://localhost:8080/"
        },
        "id": "rZK2K3oggC1q",
        "outputId": "27c3e71f-73dd-4933-bd8a-d8bdeba680c5"
      },
      "execution_count": 23,
      "outputs": [
        {
          "output_type": "stream",
          "name": "stdout",
          "text": [
            "tf.Tensor([3 2], shape=(2,), dtype=int32)\n",
            "tf.Tensor([3 6 8], shape=(3,), dtype=int32)\n",
            "tf.Tensor([ 3  6  8 45], shape=(4,), dtype=int32)\n",
            "tf.Tensor([45 10  8  5  6  2  3], shape=(7,), dtype=int32)\n"
          ]
        }
      ]
    },
    {
      "cell_type": "code",
      "source": [
        "tensor_three_d = tf.constant([\n",
        "                         [[1,2,4],\n",
        "                          [3,5,7]],\n",
        "                         [[1,2,4],\n",
        "                          [3,2,7]],\n",
        "                         [[1,7,6],\n",
        "                          [4,5,5]],\n",
        "                         [[4,0,4],\n",
        "                          [3,2,7]]\n",
        "                              ])\n",
        "print(tensor_three_d.shape)\n",
        "print(tensor_three_d.dtype)\n",
        "print(tensor_three_d.ndim)"
      ],
      "metadata": {
        "id": "3NFXF9X4lTcU",
        "colab": {
          "base_uri": "https://localhost:8080/"
        },
        "outputId": "0bf00733-9229-48cf-a423-9c43f9ea1835"
      },
      "execution_count": 24,
      "outputs": [
        {
          "output_type": "stream",
          "name": "stdout",
          "text": [
            "(4, 2, 3)\n",
            "<dtype: 'int32'>\n",
            "3\n"
          ]
        }
      ]
    },
    {
      "cell_type": "code",
      "source": [
        "tensor_three_d[0, 1, :]"
      ],
      "metadata": {
        "colab": {
          "base_uri": "https://localhost:8080/"
        },
        "id": "AKAhaOFWu4L5",
        "outputId": "337740c6-da88-4106-8686-8cb5a2569c09"
      },
      "execution_count": 25,
      "outputs": [
        {
          "output_type": "execute_result",
          "data": {
            "text/plain": [
              "<tf.Tensor: shape=(3,), dtype=int32, numpy=array([3, 5, 7], dtype=int32)>"
            ]
          },
          "metadata": {},
          "execution_count": 25
        }
      ]
    },
    {
      "cell_type": "code",
      "source": [
        "tensor_three_d[0, 1, 1]"
      ],
      "metadata": {
        "id": "jZI33oxc1ITL",
        "colab": {
          "base_uri": "https://localhost:8080/"
        },
        "outputId": "b3a21134-4da3-419a-e7a3-3873794465d1"
      },
      "execution_count": 26,
      "outputs": [
        {
          "output_type": "execute_result",
          "data": {
            "text/plain": [
              "<tf.Tensor: shape=(), dtype=int32, numpy=5>"
            ]
          },
          "metadata": {},
          "execution_count": 26
        }
      ]
    },
    {
      "cell_type": "code",
      "source": [
        "tensor_two_d = tf.constant([\n",
        "    [\n",
        "    [1, 3, 5],\n",
        "    [4, 6, -1],\n",
        "    [3, 2, 7]\n",
        "    ],\n",
        "    [\n",
        "    [1, 3, 5],\n",
        "    [4, 6, 7],\n",
        "    [3, 2, 7]\n",
        "]\n",
        "    ])\n",
        "print(tensor_two_d.shape)"
      ],
      "metadata": {
        "id": "Cf2p6-CXQU15",
        "colab": {
          "base_uri": "https://localhost:8080/"
        },
        "outputId": "48a38f9a-6c78-4140-e63a-6c5dde490959"
      },
      "execution_count": 27,
      "outputs": [
        {
          "output_type": "stream",
          "name": "stdout",
          "text": [
            "(2, 3, 3)\n"
          ]
        }
      ]
    },
    {
      "cell_type": "code",
      "source": [
        "tensor_3d = tf.constant([\n",
        "                            [[2,3,1],\n",
        "                             [2,5,7]],\n",
        "\n",
        "                            [[5,0,9],\n",
        "                             [3,2,7]],\n",
        "\n",
        "                            [[4,0,4],\n",
        "                             [3,2,7]]\n",
        "                        ])\n",
        "\n",
        "tensor_3d.shape"
      ],
      "metadata": {
        "colab": {
          "base_uri": "https://localhost:8080/"
        },
        "id": "O2DVVpevenGj",
        "outputId": "9e0d9037-ec17-46dd-8734-37a5b8260181"
      },
      "execution_count": 28,
      "outputs": [
        {
          "output_type": "execute_result",
          "data": {
            "text/plain": [
              "TensorShape([3, 2, 3])"
            ]
          },
          "metadata": {},
          "execution_count": 28
        }
      ]
    },
    {
      "cell_type": "code",
      "source": [
        "print(tensor_3d[:, :, 2])"
      ],
      "metadata": {
        "colab": {
          "base_uri": "https://localhost:8080/"
        },
        "id": "41T5CFV5mgu4",
        "outputId": "f41f3449-6bc7-494e-db9d-76072ba87f1f"
      },
      "execution_count": 29,
      "outputs": [
        {
          "output_type": "stream",
          "name": "stdout",
          "text": [
            "tf.Tensor(\n",
            "[[1 7]\n",
            " [9 7]\n",
            " [4 7]], shape=(3, 2), dtype=int32)\n"
          ]
        }
      ]
    },
    {
      "cell_type": "markdown",
      "source": [
        "##Tensor Math Operation"
      ],
      "metadata": {
        "id": "uEa0p0dv14n_"
      }
    },
    {
      "cell_type": "code",
      "source": [
        "x_abs = tf.constant([\n",
        "    [2, 3, -1],\n",
        "    [4, -6, 7]\n",
        "])\n",
        "print(tf.abs(x_abs))"
      ],
      "metadata": {
        "id": "-9_4sJVZ2FDh",
        "colab": {
          "base_uri": "https://localhost:8080/"
        },
        "outputId": "cbc14d89-432a-4979-e379-8d6118d78ebd"
      },
      "execution_count": 30,
      "outputs": [
        {
          "output_type": "stream",
          "name": "stdout",
          "text": [
            "tf.Tensor(\n",
            "[[2 3 1]\n",
            " [4 6 7]], shape=(2, 3), dtype=int32)\n"
          ]
        }
      ]
    },
    {
      "cell_type": "code",
      "source": [
        "x = tf.constant([\n",
        "    [2, 3, -1],\n",
        "    [4, -6, 7]\n",
        "])\n",
        "print(tf.math.abs(x))"
      ],
      "metadata": {
        "id": "38K2Rx1X2ced",
        "colab": {
          "base_uri": "https://localhost:8080/"
        },
        "outputId": "bbf2b0ea-fc68-49a6-c69d-5f936b6086dd"
      },
      "execution_count": 31,
      "outputs": [
        {
          "output_type": "stream",
          "name": "stdout",
          "text": [
            "tf.Tensor(\n",
            "[[2 3 1]\n",
            " [4 6 7]], shape=(2, 3), dtype=int32)\n"
          ]
        }
      ]
    },
    {
      "cell_type": "code",
      "source": [
        "y_abs = tf.constant([\n",
        "    [2.0 - 3.0j],\n",
        "    [-4.0 + 6.0j]\n",
        "])\n",
        "print(tf.abs(y_abs))"
      ],
      "metadata": {
        "id": "LKDCkq2h3bcS",
        "colab": {
          "base_uri": "https://localhost:8080/"
        },
        "outputId": "f6134a00-fd35-4813-87fe-02f475935f8d"
      },
      "execution_count": 32,
      "outputs": [
        {
          "output_type": "stream",
          "name": "stdout",
          "text": [
            "tf.Tensor(\n",
            "[[3.60555128]\n",
            " [7.21110255]], shape=(2, 1), dtype=float64)\n"
          ]
        }
      ]
    },
    {
      "cell_type": "code",
      "source": [
        "x_1 = tf.constant([\n",
        "    [2, 3, -1],\n",
        "    [4, -6, 7]\n",
        "])\n",
        "x_2 = tf.constant([\n",
        "    [1, 3, -1],\n",
        "    [4, 2, 0]\n",
        "])\n",
        "print(tf.add(x_1, x_2))"
      ],
      "metadata": {
        "colab": {
          "base_uri": "https://localhost:8080/"
        },
        "id": "-cdzy4jn4Bev",
        "outputId": "d5f78555-00de-45f8-93ff-e1fa6959b829"
      },
      "execution_count": 33,
      "outputs": [
        {
          "output_type": "stream",
          "name": "stdout",
          "text": [
            "tf.Tensor(\n",
            "[[ 3  6 -2]\n",
            " [ 8 -4  7]], shape=(2, 3), dtype=int32)\n"
          ]
        }
      ]
    },
    {
      "cell_type": "code",
      "source": [
        "tf.multiply(x_1, x_2)"
      ],
      "metadata": {
        "colab": {
          "base_uri": "https://localhost:8080/"
        },
        "id": "e1GSxDH05L98",
        "outputId": "1e8d69c0-433b-43e7-c39e-1659715b8b66"
      },
      "execution_count": 34,
      "outputs": [
        {
          "output_type": "execute_result",
          "data": {
            "text/plain": [
              "<tf.Tensor: shape=(2, 3), dtype=int32, numpy=\n",
              "array([[  2,   9,   1],\n",
              "       [ 16, -12,   0]], dtype=int32)>"
            ]
          },
          "metadata": {},
          "execution_count": 34
        }
      ]
    },
    {
      "cell_type": "code",
      "source": [
        "tf.subtract(x_1, x_2)"
      ],
      "metadata": {
        "colab": {
          "base_uri": "https://localhost:8080/"
        },
        "id": "nUdWDxDK5Uyw",
        "outputId": "f55b74b0-df99-47ef-9e19-d9b69b459377"
      },
      "execution_count": 35,
      "outputs": [
        {
          "output_type": "execute_result",
          "data": {
            "text/plain": [
              "<tf.Tensor: shape=(2, 3), dtype=int32, numpy=\n",
              "array([[ 1,  0,  0],\n",
              "       [ 0, -8,  7]], dtype=int32)>"
            ]
          },
          "metadata": {},
          "execution_count": 35
        }
      ]
    },
    {
      "cell_type": "code",
      "source": [
        "tf.math.divide(x_1, x_2)"
      ],
      "metadata": {
        "colab": {
          "base_uri": "https://localhost:8080/"
        },
        "id": "AkbTDV-h5YGE",
        "outputId": "97a0ee17-c872-4d17-8604-6bec3561f313"
      },
      "execution_count": 36,
      "outputs": [
        {
          "output_type": "execute_result",
          "data": {
            "text/plain": [
              "<tf.Tensor: shape=(2, 3), dtype=float64, numpy=\n",
              "array([[ 2.,  1.,  1.],\n",
              "       [ 1., -3., inf]])>"
            ]
          },
          "metadata": {},
          "execution_count": 36
        }
      ]
    },
    {
      "cell_type": "code",
      "source": [
        "tf.math.divide_no_nan(x_1, x_2)"
      ],
      "metadata": {
        "colab": {
          "base_uri": "https://localhost:8080/"
        },
        "id": "sFocDozm5cgP",
        "outputId": "40518955-cc13-40c1-9152-d375f393fb17"
      },
      "execution_count": 37,
      "outputs": [
        {
          "output_type": "execute_result",
          "data": {
            "text/plain": [
              "<tf.Tensor: shape=(2, 3), dtype=float64, numpy=\n",
              "array([[ 2.,  1.,  1.],\n",
              "       [ 1., -3.,  0.]])>"
            ]
          },
          "metadata": {},
          "execution_count": 37
        }
      ]
    },
    {
      "cell_type": "code",
      "source": [
        "x_3 = tf.constant([\n",
        "    [2, 3, -1],\n",
        "    [4, -6, 7]], dtype=tf.float32)\n",
        "\n",
        "x_4 = tf.constant([7], dtype=tf.float32)\n",
        "\n",
        "x_5 = tf.constant([[7, 7, 7]], dtype=tf.float32)"
      ],
      "metadata": {
        "id": "dQign0AXF5tR"
      },
      "execution_count": 38,
      "outputs": []
    },
    {
      "cell_type": "code",
      "source": [
        "print(tf.math.multiply(x_3, x_4))\n",
        "\n",
        "print(tf.math.multiply(x_3, x_5))"
      ],
      "metadata": {
        "colab": {
          "base_uri": "https://localhost:8080/"
        },
        "id": "oomMTsLRHiB2",
        "outputId": "e2ea59cd-d3dd-4b1c-d1f1-e5b421858ae1"
      },
      "execution_count": 39,
      "outputs": [
        {
          "output_type": "stream",
          "name": "stdout",
          "text": [
            "tf.Tensor(\n",
            "[[ 14.  21.  -7.]\n",
            " [ 28. -42.  49.]], shape=(2, 3), dtype=float32)\n",
            "tf.Tensor(\n",
            "[[ 14.  21.  -7.]\n",
            " [ 28. -42.  49.]], shape=(2, 3), dtype=float32)\n"
          ]
        }
      ]
    },
    {
      "cell_type": "code",
      "source": [
        "print(tf.math.multiply(x_3, tf.broadcast_to(x_4, [2, 3])))"
      ],
      "metadata": {
        "colab": {
          "base_uri": "https://localhost:8080/"
        },
        "id": "nLWTCXXiH1zq",
        "outputId": "04c0a233-ba2d-4a90-901d-0bf755bd3acc"
      },
      "execution_count": 40,
      "outputs": [
        {
          "output_type": "stream",
          "name": "stdout",
          "text": [
            "tf.Tensor(\n",
            "[[ 14.  21.  -7.]\n",
            " [ 28. -42.  49.]], shape=(2, 3), dtype=float32)\n"
          ]
        }
      ]
    },
    {
      "cell_type": "code",
      "source": [
        "x_6 = tf.constant([5,7,9, 5, 1])\n",
        "x_7 = tf.constant([\n",
        "                    [2, 4, 8],\n",
        "                    [3,4, -2]\n",
        "                    ])"
      ],
      "metadata": {
        "id": "khIoDCGOIydJ"
      },
      "execution_count": 42,
      "outputs": []
    },
    {
      "cell_type": "code",
      "source": [
        "x_argmax = tf.math.argmax(x_6)\n",
        "print(x_argmax)"
      ],
      "metadata": {
        "colab": {
          "base_uri": "https://localhost:8080/"
        },
        "id": "0Y58N8cmVriK",
        "outputId": "b7577319-b6fd-4bcc-dc70-1deb5b18922d"
      },
      "execution_count": 43,
      "outputs": [
        {
          "output_type": "stream",
          "name": "stdout",
          "text": [
            "tf.Tensor(2, shape=(), dtype=int64)\n"
          ]
        }
      ]
    },
    {
      "cell_type": "code",
      "source": [
        "print(tf.math.argmax(x_7, axis=0))"
      ],
      "metadata": {
        "colab": {
          "base_uri": "https://localhost:8080/"
        },
        "id": "bQQ89_GAWX7c",
        "outputId": "2888249f-e7ad-4a90-9323-ccd9ac169089"
      },
      "execution_count": 45,
      "outputs": [
        {
          "output_type": "stream",
          "name": "stdout",
          "text": [
            "tf.Tensor([1 0 0], shape=(3,), dtype=int64)\n"
          ]
        }
      ]
    },
    {
      "cell_type": "code",
      "source": [
        "print(tf.math.argmin(x_7, axis=1))"
      ],
      "metadata": {
        "colab": {
          "base_uri": "https://localhost:8080/"
        },
        "id": "-umx8p2mWgfN",
        "outputId": "84220a42-31ce-4de6-9ffd-f386225de961"
      },
      "execution_count": 47,
      "outputs": [
        {
          "output_type": "stream",
          "name": "stdout",
          "text": [
            "tf.Tensor([0 2], shape=(2,), dtype=int64)\n"
          ]
        }
      ]
    },
    {
      "cell_type": "code",
      "source": [
        "x = tf.constant([\n",
        "    [2, 3, -1],\n",
        "    [4, -6, 7]\n",
        "])\n",
        "y = tf.constant([\n",
        "    [1, 3, -1],\n",
        "    [4, 2, 0]\n",
        "])\n",
        "\n",
        "print(tf.math.reduce_sum(x))\n",
        "print(tf.math.reduce_sum(y))"
      ],
      "metadata": {
        "colab": {
          "base_uri": "https://localhost:8080/"
        },
        "id": "OoAnhQz5Wz6X",
        "outputId": "637cd64a-ed71-481d-bd47-7311761fb63b"
      },
      "execution_count": 50,
      "outputs": [
        {
          "output_type": "stream",
          "name": "stdout",
          "text": [
            "tf.Tensor(9, shape=(), dtype=int32)\n",
            "tf.Tensor(9, shape=(), dtype=int32)\n"
          ]
        }
      ]
    },
    {
      "cell_type": "code",
      "source": [
        "print(tf.math.equal(x, y))"
      ],
      "metadata": {
        "colab": {
          "base_uri": "https://localhost:8080/"
        },
        "id": "a6gOT5g5XJji",
        "outputId": "566e1bf9-b7ae-4556-bf8f-fea9e14c3228"
      },
      "execution_count": 51,
      "outputs": [
        {
          "output_type": "stream",
          "name": "stdout",
          "text": [
            "tf.Tensor(\n",
            "[[False  True  True]\n",
            " [ True False False]], shape=(2, 3), dtype=bool)\n"
          ]
        }
      ]
    },
    {
      "cell_type": "code",
      "source": [],
      "metadata": {
        "id": "WB8-UcIbXeiW"
      },
      "execution_count": null,
      "outputs": []
    }
  ]
}