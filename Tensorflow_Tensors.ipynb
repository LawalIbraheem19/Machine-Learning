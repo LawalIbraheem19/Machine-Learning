{
  "nbformat": 4,
  "nbformat_minor": 0,
  "metadata": {
    "colab": {
      "provenance": [],
      "authorship_tag": "ABX9TyOsfa0ovsjSXzWOhYvyxiaD",
      "include_colab_link": true
    },
    "kernelspec": {
      "name": "python3",
      "display_name": "Python 3"
    },
    "language_info": {
      "name": "python"
    }
  },
  "cells": [
    {
      "cell_type": "markdown",
      "metadata": {
        "id": "view-in-github",
        "colab_type": "text"
      },
      "source": [
        "<a href=\"https://colab.research.google.com/github/LawalIbraheem19/Machine-Learning/blob/main/Tensorflow_Tensors.ipynb\" target=\"_parent\"><img src=\"https://colab.research.google.com/assets/colab-badge.svg\" alt=\"Open In Colab\"/></a>"
      ]
    },
    {
      "cell_type": "code",
      "execution_count": 39,
      "metadata": {
        "id": "Iwd1M3LHM6Kh"
      },
      "outputs": [],
      "source": [
        "import tensorflow as tf\n",
        "import numpy as np"
      ]
    },
    {
      "cell_type": "code",
      "source": [
        "zero_dim = tf.constant(42)\n",
        "print(zero_dim)"
      ],
      "metadata": {
        "colab": {
          "base_uri": "https://localhost:8080/"
        },
        "id": "virPq_XsyuNy",
        "outputId": "2a563ccf-e644-48da-b134-002b4f271162"
      },
      "execution_count": 40,
      "outputs": [
        {
          "output_type": "stream",
          "name": "stdout",
          "text": [
            "tf.Tensor(42, shape=(), dtype=int32)\n"
          ]
        }
      ]
    },
    {
      "cell_type": "code",
      "source": [
        "one_dim = tf.constant([1, 2, 3])\n",
        "print(one_dim)"
      ],
      "metadata": {
        "colab": {
          "base_uri": "https://localhost:8080/"
        },
        "id": "VCz2LcIzzAVH",
        "outputId": "e3c04238-bfc4-404a-a846-d27b067625a9"
      },
      "execution_count": 41,
      "outputs": [
        {
          "output_type": "stream",
          "name": "stdout",
          "text": [
            "tf.Tensor([1 2 3], shape=(3,), dtype=int32)\n"
          ]
        }
      ]
    },
    {
      "cell_type": "code",
      "source": [
        "two_dim = tf.constant([\n",
        "    [1, 2, 3],\n",
        "    [4, 5, 6]\n",
        "]\n",
        "                      )\n",
        "print(two_dim)"
      ],
      "metadata": {
        "colab": {
          "base_uri": "https://localhost:8080/"
        },
        "id": "RkAqMzuHzmZX",
        "outputId": "7ddc406f-47cc-4dfb-c073-036a0c03c63c"
      },
      "execution_count": 42,
      "outputs": [
        {
          "output_type": "stream",
          "name": "stdout",
          "text": [
            "tf.Tensor(\n",
            "[[1 2 3]\n",
            " [4 5 6]], shape=(2, 3), dtype=int32)\n"
          ]
        }
      ]
    },
    {
      "cell_type": "code",
      "source": [
        "three_dim = tf.constant([\n",
        "\n",
        "])"
      ],
      "metadata": {
        "id": "tksExsJjzp-r"
      },
      "execution_count": 43,
      "outputs": []
    },
    {
      "cell_type": "code",
      "source": [
        "tensor_one_dim = tf.constant([2, 0., -3, 8, 90], dtype= tf.float32)\n",
        "print(tensor_one_dim)"
      ],
      "metadata": {
        "colab": {
          "base_uri": "https://localhost:8080/"
        },
        "id": "_lznOCbfmjgJ",
        "outputId": "673669fc-79a2-4eef-f3b0-d2b9d3367d40"
      },
      "execution_count": 44,
      "outputs": [
        {
          "output_type": "stream",
          "name": "stdout",
          "text": [
            "tf.Tensor([ 2.  0. -3.  8. 90.], shape=(5,), dtype=float32)\n"
          ]
        }
      ]
    },
    {
      "cell_type": "code",
      "source": [
        "casted_tensor = tf.cast(tensor_one_dim, dtype=tf.int16)\n",
        "print(casted_tensor)"
      ],
      "metadata": {
        "colab": {
          "base_uri": "https://localhost:8080/"
        },
        "id": "_WwKiygAnfh8",
        "outputId": "9fc32515-127b-4d89-d7cd-1b105360bb9a"
      },
      "execution_count": 45,
      "outputs": [
        {
          "output_type": "stream",
          "name": "stdout",
          "text": [
            "tf.Tensor([ 2  0 -3  8 90], shape=(5,), dtype=int16)\n"
          ]
        }
      ]
    },
    {
      "cell_type": "code",
      "source": [
        "casted_tensor_bool = tf.cast(tensor_one_dim, dtype=tf.bool)\n",
        "print(casted_tensor_bool)"
      ],
      "metadata": {
        "colab": {
          "base_uri": "https://localhost:8080/"
        },
        "id": "3IVIU6Mnny6E",
        "outputId": "ab5350f8-0f6f-4ac1-f99c-87e30d72cdce"
      },
      "execution_count": 46,
      "outputs": [
        {
          "output_type": "stream",
          "name": "stdout",
          "text": [
            "tf.Tensor([ True False  True  True  True], shape=(5,), dtype=bool)\n"
          ]
        }
      ]
    },
    {
      "cell_type": "code",
      "source": [
        "np_array = np.array([1, 2, 3])\n",
        "print(np_array)"
      ],
      "metadata": {
        "colab": {
          "base_uri": "https://localhost:8080/"
        },
        "id": "I3PvuI2qn4TO",
        "outputId": "b3f5e514-ec47-4779-c6e7-d9fc4654816d"
      },
      "execution_count": 47,
      "outputs": [
        {
          "output_type": "stream",
          "name": "stdout",
          "text": [
            "[1 2 3]\n"
          ]
        }
      ]
    },
    {
      "cell_type": "code",
      "source": [
        "converted_tensor = tf.convert_to_tensor(np_array)\n",
        "print(converted_tensor)"
      ],
      "metadata": {
        "colab": {
          "base_uri": "https://localhost:8080/"
        },
        "id": "R97sLfcsonpm",
        "outputId": "d94c838b-59c1-4827-8fac-43985a1aa6d4"
      },
      "execution_count": 48,
      "outputs": [
        {
          "output_type": "stream",
          "name": "stdout",
          "text": [
            "tf.Tensor([1 2 3], shape=(3,), dtype=int64)\n"
          ]
        }
      ]
    },
    {
      "cell_type": "code",
      "source": [
        "eye_tensor= tf.eye(\n",
        "    num_rows=4,\n",
        "    num_columns=5,\n",
        "    batch_shape = [2,],\n",
        "    dtype=tf.float32\n",
        ")\n",
        "print(eye_tensor)"
      ],
      "metadata": {
        "colab": {
          "base_uri": "https://localhost:8080/"
        },
        "id": "dCDJZuLyp5yM",
        "outputId": "9ad1d0d9-c449-416c-bcd0-188f4bd4292b"
      },
      "execution_count": 49,
      "outputs": [
        {
          "output_type": "stream",
          "name": "stdout",
          "text": [
            "tf.Tensor(\n",
            "[[[1. 0. 0. 0. 0.]\n",
            "  [0. 1. 0. 0. 0.]\n",
            "  [0. 0. 1. 0. 0.]\n",
            "  [0. 0. 0. 1. 0.]]\n",
            "\n",
            " [[1. 0. 0. 0. 0.]\n",
            "  [0. 1. 0. 0. 0.]\n",
            "  [0. 0. 1. 0. 0.]\n",
            "  [0. 0. 0. 1. 0.]]], shape=(2, 4, 5), dtype=float32)\n"
          ]
        }
      ]
    },
    {
      "cell_type": "code",
      "source": [
        "three_eye_tensor = 3* eye_tensor"
      ],
      "metadata": {
        "id": "I0YE_-ibrJUC"
      },
      "execution_count": 50,
      "outputs": []
    },
    {
      "cell_type": "code",
      "source": [
        "fill_tensor = tf.fill(\n",
        "    dims=[2, 3],\n",
        "    value=10\n",
        ")\n",
        "print(fill_tensor)"
      ],
      "metadata": {
        "colab": {
          "base_uri": "https://localhost:8080/"
        },
        "id": "EsOeQbY5raj0",
        "outputId": "80329bbc-1e41-4fc8-b2d7-40a35cdcdff6"
      },
      "execution_count": 51,
      "outputs": [
        {
          "output_type": "stream",
          "name": "stdout",
          "text": [
            "tf.Tensor(\n",
            "[[10 10 10]\n",
            " [10 10 10]], shape=(2, 3), dtype=int32)\n"
          ]
        }
      ]
    },
    {
      "cell_type": "code",
      "source": [
        "ones_tensor = tf.ones(\n",
        "    [3,4],\n",
        "    dtype= tf.float32,\n",
        "    name=None\n",
        ")\n",
        "print(ones_tensor)"
      ],
      "metadata": {
        "colab": {
          "base_uri": "https://localhost:8080/"
        },
        "id": "YyTEsgV5uIHG",
        "outputId": "594d6417-29bf-460d-82c4-5ff49688d392"
      },
      "execution_count": 52,
      "outputs": [
        {
          "output_type": "stream",
          "name": "stdout",
          "text": [
            "tf.Tensor(\n",
            "[[1. 1. 1. 1.]\n",
            " [1. 1. 1. 1.]\n",
            " [1. 1. 1. 1.]], shape=(3, 4), dtype=float32)\n"
          ]
        }
      ]
    },
    {
      "cell_type": "code",
      "source": [
        "zero_tensor = tf.zeros(\n",
        "    [3,4],\n",
        "    dtype= tf.float32,\n",
        "    name=None\n",
        ")\n",
        "print(zero_tensor)"
      ],
      "metadata": {
        "colab": {
          "base_uri": "https://localhost:8080/"
        },
        "id": "sH8ida07u-lD",
        "outputId": "13250b8d-4227-4ca4-ba30-b29246d41a1d"
      },
      "execution_count": 53,
      "outputs": [
        {
          "output_type": "stream",
          "name": "stdout",
          "text": [
            "tf.Tensor(\n",
            "[[0. 0. 0. 0.]\n",
            " [0. 0. 0. 0.]\n",
            " [0. 0. 0. 0.]], shape=(3, 4), dtype=float32)\n"
          ]
        }
      ]
    },
    {
      "cell_type": "code",
      "source": [
        "shape_tensor = tf.shape(\n",
        "    converted_tensor,\n",
        "    name=None,\n",
        ")\n",
        "shape_tensor"
      ],
      "metadata": {
        "id": "ZKBz5erHvU7G",
        "colab": {
          "base_uri": "https://localhost:8080/"
        },
        "outputId": "fbf8d264-cbfb-44bc-9c14-12cc481bb5e4"
      },
      "execution_count": 54,
      "outputs": [
        {
          "output_type": "execute_result",
          "data": {
            "text/plain": [
              "<tf.Tensor: shape=(1,), dtype=int32, numpy=array([3], dtype=int32)>"
            ]
          },
          "metadata": {},
          "execution_count": 54
        }
      ]
    },
    {
      "cell_type": "code",
      "source": [
        "rank_tf = tf.rank(\n",
        "    converted_tensor,\n",
        "    name=None\n",
        ")\n",
        "rank_tf"
      ],
      "metadata": {
        "colab": {
          "base_uri": "https://localhost:8080/"
        },
        "id": "vbsD9kDmCly5",
        "outputId": "b92073f8-c4e2-4f82-d423-637b5a92a655"
      },
      "execution_count": 55,
      "outputs": [
        {
          "output_type": "execute_result",
          "data": {
            "text/plain": [
              "<tf.Tensor: shape=(), dtype=int32, numpy=1>"
            ]
          },
          "metadata": {},
          "execution_count": 55
        }
      ]
    },
    {
      "cell_type": "code",
      "source": [
        "t = tf.constant([\n",
        "    [1, 3, 5],\n",
        "    [4, 6, 7]\n",
        "    ])\n",
        "print(tf.rank(t))"
      ],
      "metadata": {
        "colab": {
          "base_uri": "https://localhost:8080/"
        },
        "id": "464E8PgTDLFR",
        "outputId": "8005396c-3a7a-4e93-d71a-fecda20030e0"
      },
      "execution_count": 56,
      "outputs": [
        {
          "output_type": "stream",
          "name": "stdout",
          "text": [
            "tf.Tensor(2, shape=(), dtype=int32)\n"
          ]
        }
      ]
    },
    {
      "cell_type": "code",
      "source": [
        "size_tensor = tf.constant([[\n",
        "    [1, 3, 5],\n",
        "    [4, 6, 7]\n",
        "]])\n",
        "print(tf.shape(size_tensor))"
      ],
      "metadata": {
        "colab": {
          "base_uri": "https://localhost:8080/"
        },
        "id": "DjbeBkcEDzUQ",
        "outputId": "5ce48a99-9251-4526-8eb4-621c094b8434"
      },
      "execution_count": 57,
      "outputs": [
        {
          "output_type": "stream",
          "name": "stdout",
          "text": [
            "tf.Tensor([1 2 3], shape=(3,), dtype=int32)\n"
          ]
        }
      ]
    },
    {
      "cell_type": "code",
      "source": [
        "print(tf.size(size_tensor))"
      ],
      "metadata": {
        "colab": {
          "base_uri": "https://localhost:8080/"
        },
        "id": "60BxMe9zHdbM",
        "outputId": "09dce90b-0e7b-44f0-e2a7-8a988f52d1ea"
      },
      "execution_count": 58,
      "outputs": [
        {
          "output_type": "stream",
          "name": "stdout",
          "text": [
            "tf.Tensor(6, shape=(), dtype=int32)\n"
          ]
        }
      ]
    },
    {
      "cell_type": "code",
      "source": [
        "random_tf = tf.random.normal(\n",
        "    shape=[4,3],\n",
        "    mean=0.0,\n",
        "    stddev=1.0,\n",
        "    dtype=tf.float32,\n",
        "    seed=None,\n",
        "    name=None\n",
        ")\n",
        "print(random_tf)"
      ],
      "metadata": {
        "colab": {
          "base_uri": "https://localhost:8080/"
        },
        "id": "lN64DKPhWl-0",
        "outputId": "ccf8a1da-3b11-4e9c-d364-22bbbcc9d55f"
      },
      "execution_count": 59,
      "outputs": [
        {
          "output_type": "stream",
          "name": "stdout",
          "text": [
            "tf.Tensor(\n",
            "[[-1.2218394  -0.7177294   0.5842217 ]\n",
            " [ 0.51061434  2.0512838  -1.0397129 ]\n",
            " [ 0.69614184 -1.9963099   0.00600755]\n",
            " [ 0.53198886 -0.23708613 -0.7625866 ]], shape=(4, 3), dtype=float32)\n"
          ]
        }
      ]
    },
    {
      "cell_type": "code",
      "source": [
        "uniform_tf = tf.random.uniform(\n",
        "    shape=[4,3],\n",
        "    minval=0,\n",
        "    maxval=5,\n",
        "    dtype=tf.float32,\n",
        "    seed=None,\n",
        "    name=None\n",
        ")\n",
        "print(uniform_tf)"
      ],
      "metadata": {
        "id": "h_ak2Mg-bfuy",
        "colab": {
          "base_uri": "https://localhost:8080/"
        },
        "outputId": "dcce9ac6-640d-4950-d938-3251c3c0d811"
      },
      "execution_count": 60,
      "outputs": [
        {
          "output_type": "stream",
          "name": "stdout",
          "text": [
            "tf.Tensor(\n",
            "[[3.2355933 3.490857  3.3083158]\n",
            " [3.1783724 3.617158  3.6550379]\n",
            " [2.788664  4.4972334 1.779995 ]\n",
            " [3.857118  1.8906724 2.998273 ]], shape=(4, 3), dtype=float32)\n"
          ]
        }
      ]
    },
    {
      "cell_type": "code",
      "source": [
        "index_tf = tf.constant([3, 2, 6, 5, 8, 10, 45])\n",
        "print(index_tf[0:2])\n",
        "print(index_tf[0:6:2])\n",
        "print(index_tf[::2])\n",
        "print(index_tf[::-1])"
      ],
      "metadata": {
        "colab": {
          "base_uri": "https://localhost:8080/"
        },
        "id": "rZK2K3oggC1q",
        "outputId": "b390f8b9-70e9-457c-aeed-db02215160ba"
      },
      "execution_count": 61,
      "outputs": [
        {
          "output_type": "stream",
          "name": "stdout",
          "text": [
            "tf.Tensor([3 2], shape=(2,), dtype=int32)\n",
            "tf.Tensor([3 6 8], shape=(3,), dtype=int32)\n",
            "tf.Tensor([ 3  6  8 45], shape=(4,), dtype=int32)\n",
            "tf.Tensor([45 10  8  5  6  2  3], shape=(7,), dtype=int32)\n"
          ]
        }
      ]
    },
    {
      "cell_type": "code",
      "source": [
        "tensor_three_d = tf.constant([\n",
        "                         [[1,2,4],\n",
        "                          [3,5,7]],\n",
        "                         [[1,2,4],\n",
        "                          [3,2,7]],\n",
        "                         [[1,7,6],\n",
        "                          [4,5,5]],\n",
        "                         [[4,0,4],\n",
        "                          [3,2,7]]\n",
        "                              ])\n",
        "print(tensor_three_d.shape)\n",
        "print(tensor_three_d.dtype)\n",
        "print(tensor_three_d.ndim)"
      ],
      "metadata": {
        "id": "3NFXF9X4lTcU",
        "colab": {
          "base_uri": "https://localhost:8080/"
        },
        "outputId": "64973e29-4f4d-48d2-b055-829146211a69"
      },
      "execution_count": 62,
      "outputs": [
        {
          "output_type": "stream",
          "name": "stdout",
          "text": [
            "(4, 2, 3)\n",
            "<dtype: 'int32'>\n",
            "3\n"
          ]
        }
      ]
    },
    {
      "cell_type": "code",
      "source": [
        "tensor_three_d[0, 1, :]"
      ],
      "metadata": {
        "colab": {
          "base_uri": "https://localhost:8080/"
        },
        "id": "AKAhaOFWu4L5",
        "outputId": "a71326ac-ff8f-4a2b-b776-aa1c3d53884b"
      },
      "execution_count": 63,
      "outputs": [
        {
          "output_type": "execute_result",
          "data": {
            "text/plain": [
              "<tf.Tensor: shape=(3,), dtype=int32, numpy=array([3, 5, 7], dtype=int32)>"
            ]
          },
          "metadata": {},
          "execution_count": 63
        }
      ]
    },
    {
      "cell_type": "code",
      "source": [
        "tensor_three_d[0, 1, 1]"
      ],
      "metadata": {
        "id": "jZI33oxc1ITL",
        "colab": {
          "base_uri": "https://localhost:8080/"
        },
        "outputId": "67844cd4-02bd-445f-a825-7ea834b0d9b8"
      },
      "execution_count": 64,
      "outputs": [
        {
          "output_type": "execute_result",
          "data": {
            "text/plain": [
              "<tf.Tensor: shape=(), dtype=int32, numpy=5>"
            ]
          },
          "metadata": {},
          "execution_count": 64
        }
      ]
    },
    {
      "cell_type": "code",
      "source": [
        "tensor_two_d = tf.constant([\n",
        "    [\n",
        "    [1, 3, 5],\n",
        "    [4, 6, -1],\n",
        "    [3, 2, 7]\n",
        "    ],\n",
        "    [\n",
        "    [1, 3, 5],\n",
        "    [4, 6, 7],\n",
        "    [3, 2, 7]\n",
        "]\n",
        "    ])\n",
        "print(tensor_two_d.shape)"
      ],
      "metadata": {
        "id": "Cf2p6-CXQU15",
        "colab": {
          "base_uri": "https://localhost:8080/"
        },
        "outputId": "cae6b168-2fb0-40a3-a7b3-ffd748380b16"
      },
      "execution_count": 65,
      "outputs": [
        {
          "output_type": "stream",
          "name": "stdout",
          "text": [
            "(2, 3, 3)\n"
          ]
        }
      ]
    },
    {
      "cell_type": "code",
      "source": [
        "tensor_3d = tf.constant([\n",
        "                            [[2,3,1],\n",
        "                             [2,5,7]],\n",
        "\n",
        "                            [[5,0,9],\n",
        "                             [3,2,7]],\n",
        "\n",
        "                            [[4,0,4],\n",
        "                             [3,2,7]]\n",
        "                        ])\n",
        "\n",
        "tensor_3d.shape"
      ],
      "metadata": {
        "colab": {
          "base_uri": "https://localhost:8080/"
        },
        "id": "O2DVVpevenGj",
        "outputId": "26baacc2-661f-4689-fe17-2f16e314b5b6"
      },
      "execution_count": 66,
      "outputs": [
        {
          "output_type": "execute_result",
          "data": {
            "text/plain": [
              "TensorShape([3, 2, 3])"
            ]
          },
          "metadata": {},
          "execution_count": 66
        }
      ]
    },
    {
      "cell_type": "code",
      "source": [
        "print(tensor_3d[:, :, 2])"
      ],
      "metadata": {
        "colab": {
          "base_uri": "https://localhost:8080/"
        },
        "id": "41T5CFV5mgu4",
        "outputId": "999c62d8-0e96-4a3d-a91b-52bac626c8f9"
      },
      "execution_count": 67,
      "outputs": [
        {
          "output_type": "stream",
          "name": "stdout",
          "text": [
            "tf.Tensor(\n",
            "[[1 7]\n",
            " [9 7]\n",
            " [4 7]], shape=(3, 2), dtype=int32)\n"
          ]
        }
      ]
    },
    {
      "cell_type": "markdown",
      "source": [
        "##Tensor Math Operation"
      ],
      "metadata": {
        "id": "uEa0p0dv14n_"
      }
    },
    {
      "cell_type": "code",
      "source": [
        "x_abs = tf.constant([\n",
        "    [2, 3, -1],\n",
        "    [4, -6, 7]\n",
        "])\n",
        "print(tf.abs(x_abs))"
      ],
      "metadata": {
        "id": "-9_4sJVZ2FDh",
        "colab": {
          "base_uri": "https://localhost:8080/"
        },
        "outputId": "a9e193c0-4ba4-422f-c0f8-80f9829b9f52"
      },
      "execution_count": 68,
      "outputs": [
        {
          "output_type": "stream",
          "name": "stdout",
          "text": [
            "tf.Tensor(\n",
            "[[2 3 1]\n",
            " [4 6 7]], shape=(2, 3), dtype=int32)\n"
          ]
        }
      ]
    },
    {
      "cell_type": "code",
      "source": [
        "x = tf.constant([\n",
        "    [2, 3, -1],\n",
        "    [4, -6, 7]\n",
        "])\n",
        "print(tf.math.abs(x))"
      ],
      "metadata": {
        "id": "38K2Rx1X2ced",
        "colab": {
          "base_uri": "https://localhost:8080/"
        },
        "outputId": "c5196e2d-3c53-4ecd-e11f-41b42f6913ae"
      },
      "execution_count": 69,
      "outputs": [
        {
          "output_type": "stream",
          "name": "stdout",
          "text": [
            "tf.Tensor(\n",
            "[[2 3 1]\n",
            " [4 6 7]], shape=(2, 3), dtype=int32)\n"
          ]
        }
      ]
    },
    {
      "cell_type": "code",
      "source": [
        "y_abs = tf.constant([\n",
        "    [2.0 - 3.0j],\n",
        "    [-4.0 + 6.0j]\n",
        "])\n",
        "print(tf.abs(y_abs))"
      ],
      "metadata": {
        "id": "LKDCkq2h3bcS",
        "colab": {
          "base_uri": "https://localhost:8080/"
        },
        "outputId": "b0b728a8-3636-4ebe-c384-a50e4c29e134"
      },
      "execution_count": 70,
      "outputs": [
        {
          "output_type": "stream",
          "name": "stdout",
          "text": [
            "tf.Tensor(\n",
            "[[3.60555128]\n",
            " [7.21110255]], shape=(2, 1), dtype=float64)\n"
          ]
        }
      ]
    },
    {
      "cell_type": "code",
      "source": [
        "x_1 = tf.constant([\n",
        "    [2, 3, -1],\n",
        "    [4, -6, 7]\n",
        "])\n",
        "x_2 = tf.constant([\n",
        "    [1, 3, -1],\n",
        "    [4, 2, 0]\n",
        "])\n",
        "print(tf.add(x_1, x_2))"
      ],
      "metadata": {
        "colab": {
          "base_uri": "https://localhost:8080/"
        },
        "id": "-cdzy4jn4Bev",
        "outputId": "f86d8218-386f-4f2c-df65-e76625af60fc"
      },
      "execution_count": 71,
      "outputs": [
        {
          "output_type": "stream",
          "name": "stdout",
          "text": [
            "tf.Tensor(\n",
            "[[ 3  6 -2]\n",
            " [ 8 -4  7]], shape=(2, 3), dtype=int32)\n"
          ]
        }
      ]
    },
    {
      "cell_type": "code",
      "source": [
        "tf.multiply(x_1, x_2)"
      ],
      "metadata": {
        "colab": {
          "base_uri": "https://localhost:8080/"
        },
        "id": "e1GSxDH05L98",
        "outputId": "1ddef5c6-a4ab-46c9-ae68-59db7819d1c7"
      },
      "execution_count": 72,
      "outputs": [
        {
          "output_type": "execute_result",
          "data": {
            "text/plain": [
              "<tf.Tensor: shape=(2, 3), dtype=int32, numpy=\n",
              "array([[  2,   9,   1],\n",
              "       [ 16, -12,   0]], dtype=int32)>"
            ]
          },
          "metadata": {},
          "execution_count": 72
        }
      ]
    },
    {
      "cell_type": "code",
      "source": [
        "tf.subtract(x_1, x_2)"
      ],
      "metadata": {
        "colab": {
          "base_uri": "https://localhost:8080/"
        },
        "id": "nUdWDxDK5Uyw",
        "outputId": "520f57ff-84d9-43b0-803b-b39d15f1696e"
      },
      "execution_count": 73,
      "outputs": [
        {
          "output_type": "execute_result",
          "data": {
            "text/plain": [
              "<tf.Tensor: shape=(2, 3), dtype=int32, numpy=\n",
              "array([[ 1,  0,  0],\n",
              "       [ 0, -8,  7]], dtype=int32)>"
            ]
          },
          "metadata": {},
          "execution_count": 73
        }
      ]
    },
    {
      "cell_type": "code",
      "source": [
        "tf.math.divide(x_1, x_2)"
      ],
      "metadata": {
        "colab": {
          "base_uri": "https://localhost:8080/"
        },
        "id": "AkbTDV-h5YGE",
        "outputId": "b666e522-7ff9-4bcd-fadf-ad635b2edb0a"
      },
      "execution_count": 74,
      "outputs": [
        {
          "output_type": "execute_result",
          "data": {
            "text/plain": [
              "<tf.Tensor: shape=(2, 3), dtype=float64, numpy=\n",
              "array([[ 2.,  1.,  1.],\n",
              "       [ 1., -3., inf]])>"
            ]
          },
          "metadata": {},
          "execution_count": 74
        }
      ]
    },
    {
      "cell_type": "code",
      "source": [
        "tf.math.divide_no_nan(x_1, x_2)"
      ],
      "metadata": {
        "colab": {
          "base_uri": "https://localhost:8080/"
        },
        "id": "sFocDozm5cgP",
        "outputId": "dfea597a-fc00-4879-baf1-7ef466595f9c"
      },
      "execution_count": 75,
      "outputs": [
        {
          "output_type": "execute_result",
          "data": {
            "text/plain": [
              "<tf.Tensor: shape=(2, 3), dtype=float64, numpy=\n",
              "array([[ 2.,  1.,  1.],\n",
              "       [ 1., -3.,  0.]])>"
            ]
          },
          "metadata": {},
          "execution_count": 75
        }
      ]
    },
    {
      "cell_type": "code",
      "source": [],
      "metadata": {
        "id": "dQign0AXF5tR"
      },
      "execution_count": null,
      "outputs": []
    }
  ]
}