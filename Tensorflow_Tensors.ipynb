{
  "nbformat": 4,
  "nbformat_minor": 0,
  "metadata": {
    "colab": {
      "provenance": [],
      "authorship_tag": "ABX9TyPn8hOG49usmC2BuU/d7Hp6",
      "include_colab_link": true
    },
    "kernelspec": {
      "name": "python3",
      "display_name": "Python 3"
    },
    "language_info": {
      "name": "python"
    }
  },
  "cells": [
    {
      "cell_type": "markdown",
      "metadata": {
        "id": "view-in-github",
        "colab_type": "text"
      },
      "source": [
        "<a href=\"https://colab.research.google.com/github/LawalIbraheem19/Machine-Learning/blob/main/Tensorflow_Tensors.ipynb\" target=\"_parent\"><img src=\"https://colab.research.google.com/assets/colab-badge.svg\" alt=\"Open In Colab\"/></a>"
      ]
    },
    {
      "cell_type": "code",
      "execution_count": 2,
      "metadata": {
        "id": "Iwd1M3LHM6Kh"
      },
      "outputs": [],
      "source": [
        "import tensorflow as tf\n",
        "import numpy as np"
      ]
    },
    {
      "cell_type": "code",
      "source": [
        "zero_dim = tf.constant(42)\n",
        "print(zero_dim)"
      ],
      "metadata": {
        "colab": {
          "base_uri": "https://localhost:8080/"
        },
        "id": "virPq_XsyuNy",
        "outputId": "d2697b4d-260f-4609-ca80-1a8ba1707748"
      },
      "execution_count": 3,
      "outputs": [
        {
          "output_type": "stream",
          "name": "stdout",
          "text": [
            "tf.Tensor(42, shape=(), dtype=int32)\n"
          ]
        }
      ]
    },
    {
      "cell_type": "code",
      "source": [
        "one_dim = tf.constant([1, 2, 3])\n",
        "print(one_dim)"
      ],
      "metadata": {
        "colab": {
          "base_uri": "https://localhost:8080/"
        },
        "id": "VCz2LcIzzAVH",
        "outputId": "7fd867f3-163b-4003-81d0-50252d47ae5e"
      },
      "execution_count": 4,
      "outputs": [
        {
          "output_type": "stream",
          "name": "stdout",
          "text": [
            "tf.Tensor([1 2 3], shape=(3,), dtype=int32)\n"
          ]
        }
      ]
    },
    {
      "cell_type": "code",
      "source": [
        "two_dim = tf.constant([\n",
        "    [1, 2, 3],\n",
        "    [4, 5, 6]\n",
        "]\n",
        "                      )\n",
        "print(two_dim)"
      ],
      "metadata": {
        "colab": {
          "base_uri": "https://localhost:8080/"
        },
        "id": "RkAqMzuHzmZX",
        "outputId": "be37cc7a-f8b8-4dda-a550-6387df56a7d7"
      },
      "execution_count": 5,
      "outputs": [
        {
          "output_type": "stream",
          "name": "stdout",
          "text": [
            "tf.Tensor(\n",
            "[[1 2 3]\n",
            " [4 5 6]], shape=(2, 3), dtype=int32)\n"
          ]
        }
      ]
    },
    {
      "cell_type": "code",
      "source": [
        "three_dim = tf.constant([\n",
        "\n",
        "])"
      ],
      "metadata": {
        "id": "tksExsJjzp-r"
      },
      "execution_count": 6,
      "outputs": []
    },
    {
      "cell_type": "code",
      "source": [
        "tensor_one_dim = tf.constant([2, 0., -3, 8, 90], dtype= tf.float32)\n",
        "print(tensor_one_dim)"
      ],
      "metadata": {
        "colab": {
          "base_uri": "https://localhost:8080/"
        },
        "id": "_lznOCbfmjgJ",
        "outputId": "3808d38e-7af8-425e-d6b2-8cf86ef556e7"
      },
      "execution_count": 7,
      "outputs": [
        {
          "output_type": "stream",
          "name": "stdout",
          "text": [
            "tf.Tensor([ 2.  0. -3.  8. 90.], shape=(5,), dtype=float32)\n"
          ]
        }
      ]
    },
    {
      "cell_type": "code",
      "source": [
        "casted_tensor = tf.cast(tensor_one_dim, dtype=tf.int16)\n",
        "print(casted_tensor)"
      ],
      "metadata": {
        "colab": {
          "base_uri": "https://localhost:8080/"
        },
        "id": "_WwKiygAnfh8",
        "outputId": "ef8ab299-1e9e-4389-88b6-bf9cad5d9b58"
      },
      "execution_count": 8,
      "outputs": [
        {
          "output_type": "stream",
          "name": "stdout",
          "text": [
            "tf.Tensor([ 2  0 -3  8 90], shape=(5,), dtype=int16)\n"
          ]
        }
      ]
    },
    {
      "cell_type": "code",
      "source": [
        "casted_tensor_bool = tf.cast(tensor_one_dim, dtype=tf.bool)\n",
        "print(casted_tensor_bool)"
      ],
      "metadata": {
        "colab": {
          "base_uri": "https://localhost:8080/"
        },
        "id": "3IVIU6Mnny6E",
        "outputId": "4fa5e9d0-1be1-4b79-c28a-dca2e8ca21b7"
      },
      "execution_count": 9,
      "outputs": [
        {
          "output_type": "stream",
          "name": "stdout",
          "text": [
            "tf.Tensor([ True False  True  True  True], shape=(5,), dtype=bool)\n"
          ]
        }
      ]
    },
    {
      "cell_type": "code",
      "source": [
        "np_array = np.array([1, 2, 3])\n",
        "print(np_array)"
      ],
      "metadata": {
        "colab": {
          "base_uri": "https://localhost:8080/"
        },
        "id": "I3PvuI2qn4TO",
        "outputId": "983ff79e-c20c-4a18-a1b1-5c1e173d2775"
      },
      "execution_count": 10,
      "outputs": [
        {
          "output_type": "stream",
          "name": "stdout",
          "text": [
            "[1 2 3]\n"
          ]
        }
      ]
    },
    {
      "cell_type": "code",
      "source": [
        "converted_tensor = tf.convert_to_tensor(np_array)\n",
        "print(converted_tensor)"
      ],
      "metadata": {
        "colab": {
          "base_uri": "https://localhost:8080/"
        },
        "id": "R97sLfcsonpm",
        "outputId": "912104ad-2b35-4c97-c3b0-46b768749752"
      },
      "execution_count": 11,
      "outputs": [
        {
          "output_type": "stream",
          "name": "stdout",
          "text": [
            "tf.Tensor([1 2 3], shape=(3,), dtype=int64)\n"
          ]
        }
      ]
    },
    {
      "cell_type": "code",
      "source": [
        "eye_tensor= tf.eye(\n",
        "    num_rows=4,\n",
        "    num_columns=5,\n",
        "    batch_shape = [2,],\n",
        "    dtype=tf.float32\n",
        ")\n",
        "print(eye_tensor)"
      ],
      "metadata": {
        "colab": {
          "base_uri": "https://localhost:8080/"
        },
        "id": "dCDJZuLyp5yM",
        "outputId": "83a16552-d695-413e-a87e-9c2e361cef63"
      },
      "execution_count": 12,
      "outputs": [
        {
          "output_type": "stream",
          "name": "stdout",
          "text": [
            "tf.Tensor(\n",
            "[[[1. 0. 0. 0. 0.]\n",
            "  [0. 1. 0. 0. 0.]\n",
            "  [0. 0. 1. 0. 0.]\n",
            "  [0. 0. 0. 1. 0.]]\n",
            "\n",
            " [[1. 0. 0. 0. 0.]\n",
            "  [0. 1. 0. 0. 0.]\n",
            "  [0. 0. 1. 0. 0.]\n",
            "  [0. 0. 0. 1. 0.]]], shape=(2, 4, 5), dtype=float32)\n"
          ]
        }
      ]
    },
    {
      "cell_type": "code",
      "source": [
        "three_eye_tensor = 3* eye_tensor"
      ],
      "metadata": {
        "id": "I0YE_-ibrJUC"
      },
      "execution_count": 13,
      "outputs": []
    },
    {
      "cell_type": "code",
      "source": [
        "fill_tensor = tf.fill(\n",
        "    dims=[2, 3],\n",
        "    value=10\n",
        ")\n",
        "print(fill_tensor)"
      ],
      "metadata": {
        "colab": {
          "base_uri": "https://localhost:8080/"
        },
        "id": "EsOeQbY5raj0",
        "outputId": "14cf2e31-e7af-4af7-f8ab-f09e6133508a"
      },
      "execution_count": 14,
      "outputs": [
        {
          "output_type": "stream",
          "name": "stdout",
          "text": [
            "tf.Tensor(\n",
            "[[10 10 10]\n",
            " [10 10 10]], shape=(2, 3), dtype=int32)\n"
          ]
        }
      ]
    },
    {
      "cell_type": "code",
      "source": [
        "ones_tensor = tf.ones(\n",
        "    [3,4],\n",
        "    dtype= tf.float32,\n",
        "    name=None\n",
        ")\n",
        "print(ones_tensor)"
      ],
      "metadata": {
        "colab": {
          "base_uri": "https://localhost:8080/"
        },
        "id": "YyTEsgV5uIHG",
        "outputId": "f451a145-4acd-417f-c30a-919e501d8c2e"
      },
      "execution_count": 15,
      "outputs": [
        {
          "output_type": "stream",
          "name": "stdout",
          "text": [
            "tf.Tensor(\n",
            "[[1. 1. 1. 1.]\n",
            " [1. 1. 1. 1.]\n",
            " [1. 1. 1. 1.]], shape=(3, 4), dtype=float32)\n"
          ]
        }
      ]
    },
    {
      "cell_type": "code",
      "source": [
        "zero_tensor = tf.zeros(\n",
        "    [3,4],\n",
        "    dtype= tf.float32,\n",
        "    name=None\n",
        ")\n",
        "print(zero_tensor)"
      ],
      "metadata": {
        "colab": {
          "base_uri": "https://localhost:8080/"
        },
        "id": "sH8ida07u-lD",
        "outputId": "8f5649bc-851b-4649-ed6f-2f5ba0827bad"
      },
      "execution_count": 16,
      "outputs": [
        {
          "output_type": "stream",
          "name": "stdout",
          "text": [
            "tf.Tensor(\n",
            "[[0. 0. 0. 0.]\n",
            " [0. 0. 0. 0.]\n",
            " [0. 0. 0. 0.]], shape=(3, 4), dtype=float32)\n"
          ]
        }
      ]
    },
    {
      "cell_type": "code",
      "source": [
        "shape_tensor = tf.shape(\n",
        "    converted_tensor,\n",
        "    name=None,\n",
        ")\n",
        "shape_tensor"
      ],
      "metadata": {
        "id": "ZKBz5erHvU7G",
        "colab": {
          "base_uri": "https://localhost:8080/"
        },
        "outputId": "52dfff87-0503-4981-e3cd-803009a02a90"
      },
      "execution_count": 17,
      "outputs": [
        {
          "output_type": "execute_result",
          "data": {
            "text/plain": [
              "<tf.Tensor: shape=(1,), dtype=int32, numpy=array([3], dtype=int32)>"
            ]
          },
          "metadata": {},
          "execution_count": 17
        }
      ]
    },
    {
      "cell_type": "code",
      "source": [
        "rank_tf = tf.rank(\n",
        "    converted_tensor,\n",
        "    name=None\n",
        ")\n",
        "rank_tf"
      ],
      "metadata": {
        "colab": {
          "base_uri": "https://localhost:8080/"
        },
        "id": "vbsD9kDmCly5",
        "outputId": "590bb59e-49ba-43ff-b4db-d2cd607386f5"
      },
      "execution_count": 18,
      "outputs": [
        {
          "output_type": "execute_result",
          "data": {
            "text/plain": [
              "<tf.Tensor: shape=(), dtype=int32, numpy=1>"
            ]
          },
          "metadata": {},
          "execution_count": 18
        }
      ]
    },
    {
      "cell_type": "code",
      "source": [
        "t = tf.constant([\n",
        "    [1, 3, 5],\n",
        "    [4, 6, 7]\n",
        "    ])\n",
        "print(tf.rank(t))"
      ],
      "metadata": {
        "colab": {
          "base_uri": "https://localhost:8080/"
        },
        "id": "464E8PgTDLFR",
        "outputId": "8f28f443-4196-42fd-e87a-8a40a4105610"
      },
      "execution_count": 19,
      "outputs": [
        {
          "output_type": "stream",
          "name": "stdout",
          "text": [
            "tf.Tensor(2, shape=(), dtype=int32)\n"
          ]
        }
      ]
    },
    {
      "cell_type": "code",
      "source": [
        "size_tensor = tf.constant([[\n",
        "    [1, 3, 5],\n",
        "    [4, 6, 7]\n",
        "]])\n",
        "print(tf.shape(size_tensor))"
      ],
      "metadata": {
        "colab": {
          "base_uri": "https://localhost:8080/"
        },
        "id": "DjbeBkcEDzUQ",
        "outputId": "9baf9131-1930-415f-fd78-e2ce71f14e3e"
      },
      "execution_count": 20,
      "outputs": [
        {
          "output_type": "stream",
          "name": "stdout",
          "text": [
            "tf.Tensor([1 2 3], shape=(3,), dtype=int32)\n"
          ]
        }
      ]
    },
    {
      "cell_type": "code",
      "source": [
        "print(tf.size(size_tensor))"
      ],
      "metadata": {
        "colab": {
          "base_uri": "https://localhost:8080/"
        },
        "id": "60BxMe9zHdbM",
        "outputId": "bb84fb37-d87d-4466-cdd6-be42b893e050"
      },
      "execution_count": 21,
      "outputs": [
        {
          "output_type": "stream",
          "name": "stdout",
          "text": [
            "tf.Tensor(6, shape=(), dtype=int32)\n"
          ]
        }
      ]
    },
    {
      "cell_type": "code",
      "source": [
        "random_tf = tf.random.normal(\n",
        "    shape=[4,3],\n",
        "    mean=0.0,\n",
        "    stddev=1.0,\n",
        "    dtype=tf.float32,\n",
        "    seed=None,\n",
        "    name=None\n",
        ")\n",
        "print(random_tf)"
      ],
      "metadata": {
        "colab": {
          "base_uri": "https://localhost:8080/"
        },
        "id": "lN64DKPhWl-0",
        "outputId": "c7315ae2-d329-46d9-8d6e-313c8ceffe0c"
      },
      "execution_count": 22,
      "outputs": [
        {
          "output_type": "stream",
          "name": "stdout",
          "text": [
            "tf.Tensor(\n",
            "[[ 0.97227573  0.30613667  0.29960915]\n",
            " [-1.059098    1.5559956  -0.15212248]\n",
            " [ 1.5548766   0.6684909   0.58550084]\n",
            " [-0.24415632 -0.34292582  1.2446165 ]], shape=(4, 3), dtype=float32)\n"
          ]
        }
      ]
    },
    {
      "cell_type": "code",
      "source": [
        "uniform_tf = tf.random.uniform(\n",
        "    shape=[4,3],\n",
        "    minval=0,\n",
        "    maxval=5,\n",
        "    dtype=tf.float32,\n",
        "    seed=None,\n",
        "    name=None\n",
        ")\n",
        "print(uniform_tf)"
      ],
      "metadata": {
        "id": "h_ak2Mg-bfuy",
        "colab": {
          "base_uri": "https://localhost:8080/"
        },
        "outputId": "2068e391-c88b-4508-f831-a0a65719c90d"
      },
      "execution_count": 23,
      "outputs": [
        {
          "output_type": "stream",
          "name": "stdout",
          "text": [
            "tf.Tensor(\n",
            "[[3.93731    1.3375616  4.771519  ]\n",
            " [3.0198236  0.77578783 0.2219665 ]\n",
            " [1.5711129  0.798043   1.4836806 ]\n",
            " [1.3295174  1.245439   1.1473727 ]], shape=(4, 3), dtype=float32)\n"
          ]
        }
      ]
    },
    {
      "cell_type": "code",
      "source": [
        "index_tf = tf.constant([3, 2, 6, 5, 8, 10, 45])\n",
        "print(index_tf[0:2])\n",
        "print(index_tf[0:6:2])\n",
        "print(index_tf[::2])\n",
        "print(index_tf[::-1])"
      ],
      "metadata": {
        "colab": {
          "base_uri": "https://localhost:8080/"
        },
        "id": "rZK2K3oggC1q",
        "outputId": "b2322c01-298f-4614-fd3b-af3d74c32989"
      },
      "execution_count": 24,
      "outputs": [
        {
          "output_type": "stream",
          "name": "stdout",
          "text": [
            "tf.Tensor([3 2], shape=(2,), dtype=int32)\n",
            "tf.Tensor([3 6 8], shape=(3,), dtype=int32)\n",
            "tf.Tensor([ 3  6  8 45], shape=(4,), dtype=int32)\n",
            "tf.Tensor([45 10  8  5  6  2  3], shape=(7,), dtype=int32)\n"
          ]
        }
      ]
    },
    {
      "cell_type": "code",
      "source": [
        "tensor_three_d = tf.constant([\n",
        "                         [[1,2,4],\n",
        "                          [3,5,7]],\n",
        "                         [[1,2,4],\n",
        "                          [3,2,7]],\n",
        "                         [[1,7,6],\n",
        "                          [4,5,5]],\n",
        "                         [[4,0,4],\n",
        "                          [3,2,7]]\n",
        "                              ])\n",
        "print(tensor_three_d.shape)\n",
        "print(tensor_three_d.dtype)\n",
        "print(tensor_three_d.ndim)"
      ],
      "metadata": {
        "id": "3NFXF9X4lTcU",
        "colab": {
          "base_uri": "https://localhost:8080/"
        },
        "outputId": "bdf65b14-328e-498c-e0b8-760c30584242"
      },
      "execution_count": 25,
      "outputs": [
        {
          "output_type": "stream",
          "name": "stdout",
          "text": [
            "(4, 2, 3)\n",
            "<dtype: 'int32'>\n",
            "3\n"
          ]
        }
      ]
    },
    {
      "cell_type": "code",
      "source": [
        "tensor_three_d[0, 1, :]"
      ],
      "metadata": {
        "colab": {
          "base_uri": "https://localhost:8080/"
        },
        "id": "AKAhaOFWu4L5",
        "outputId": "2270d6ca-b114-4fbf-de0a-25e50a095365"
      },
      "execution_count": 26,
      "outputs": [
        {
          "output_type": "execute_result",
          "data": {
            "text/plain": [
              "<tf.Tensor: shape=(3,), dtype=int32, numpy=array([3, 5, 7], dtype=int32)>"
            ]
          },
          "metadata": {},
          "execution_count": 26
        }
      ]
    },
    {
      "cell_type": "code",
      "source": [
        "tensor_three_d[0, 1, 1]"
      ],
      "metadata": {
        "id": "jZI33oxc1ITL",
        "colab": {
          "base_uri": "https://localhost:8080/"
        },
        "outputId": "7dc56d1c-f926-4dfd-8289-8082aa4a9895"
      },
      "execution_count": 27,
      "outputs": [
        {
          "output_type": "execute_result",
          "data": {
            "text/plain": [
              "<tf.Tensor: shape=(), dtype=int32, numpy=5>"
            ]
          },
          "metadata": {},
          "execution_count": 27
        }
      ]
    },
    {
      "cell_type": "code",
      "source": [
        "tensor_two_d = tf.constant([\n",
        "    [\n",
        "    [1, 3, 5],\n",
        "    [4, 6, -1],\n",
        "    [3, 2, 7]\n",
        "    ],\n",
        "    [\n",
        "    [1, 3, 5],\n",
        "    [4, 6, 7],\n",
        "    [3, 2, 7]\n",
        "]\n",
        "    ])\n",
        "print(tensor_two_d.shape)"
      ],
      "metadata": {
        "id": "Cf2p6-CXQU15",
        "colab": {
          "base_uri": "https://localhost:8080/"
        },
        "outputId": "d7d06223-e19b-47c7-8c17-cf7ec1fc6d12"
      },
      "execution_count": 28,
      "outputs": [
        {
          "output_type": "stream",
          "name": "stdout",
          "text": [
            "(2, 3, 3)\n"
          ]
        }
      ]
    },
    {
      "cell_type": "code",
      "source": [
        "tensor_3d = tf.constant([\n",
        "                            [[2,3,1],\n",
        "                             [2,5,7]],\n",
        "\n",
        "                            [[5,0,9],\n",
        "                             [3,2,7]],\n",
        "\n",
        "                            [[4,0,4],\n",
        "                             [3,2,7]]\n",
        "                        ])\n",
        "\n",
        "tensor_3d.shape"
      ],
      "metadata": {
        "colab": {
          "base_uri": "https://localhost:8080/"
        },
        "id": "O2DVVpevenGj",
        "outputId": "2369e4ed-c038-463d-d11e-dbf2b8793e9f"
      },
      "execution_count": 29,
      "outputs": [
        {
          "output_type": "execute_result",
          "data": {
            "text/plain": [
              "TensorShape([3, 2, 3])"
            ]
          },
          "metadata": {},
          "execution_count": 29
        }
      ]
    },
    {
      "cell_type": "code",
      "source": [
        "print(tensor_3d[:, :, 2])"
      ],
      "metadata": {
        "colab": {
          "base_uri": "https://localhost:8080/"
        },
        "id": "41T5CFV5mgu4",
        "outputId": "20faca3b-182a-42ce-85de-b360d53aa921"
      },
      "execution_count": 30,
      "outputs": [
        {
          "output_type": "stream",
          "name": "stdout",
          "text": [
            "tf.Tensor(\n",
            "[[1 7]\n",
            " [9 7]\n",
            " [4 7]], shape=(3, 2), dtype=int32)\n"
          ]
        }
      ]
    },
    {
      "cell_type": "markdown",
      "source": [
        "##Tensor Math Operation"
      ],
      "metadata": {
        "id": "uEa0p0dv14n_"
      }
    },
    {
      "cell_type": "code",
      "source": [
        "x_abs = tf.constant([\n",
        "    [2, 3, -1],\n",
        "    [4, -6, 7]\n",
        "])\n",
        "print(tf.abs(x_abs))"
      ],
      "metadata": {
        "id": "-9_4sJVZ2FDh",
        "colab": {
          "base_uri": "https://localhost:8080/"
        },
        "outputId": "6e5686b8-fc97-40b0-fe2b-90c62e3be960"
      },
      "execution_count": 31,
      "outputs": [
        {
          "output_type": "stream",
          "name": "stdout",
          "text": [
            "tf.Tensor(\n",
            "[[2 3 1]\n",
            " [4 6 7]], shape=(2, 3), dtype=int32)\n"
          ]
        }
      ]
    },
    {
      "cell_type": "code",
      "source": [
        "x = tf.constant([\n",
        "    [2, 3, -1],\n",
        "    [4, -6, 7]\n",
        "])\n",
        "print(tf.math.abs(x))"
      ],
      "metadata": {
        "id": "38K2Rx1X2ced",
        "colab": {
          "base_uri": "https://localhost:8080/"
        },
        "outputId": "43fc1c53-7c0d-46df-c16e-5a591de267e9"
      },
      "execution_count": 32,
      "outputs": [
        {
          "output_type": "stream",
          "name": "stdout",
          "text": [
            "tf.Tensor(\n",
            "[[2 3 1]\n",
            " [4 6 7]], shape=(2, 3), dtype=int32)\n"
          ]
        }
      ]
    },
    {
      "cell_type": "code",
      "source": [
        "y_abs = tf.constant([\n",
        "    [2.0 - 3.0j],\n",
        "    [-4.0 + 6.0j]\n",
        "])\n",
        "print(tf.abs(y_abs))"
      ],
      "metadata": {
        "id": "LKDCkq2h3bcS",
        "colab": {
          "base_uri": "https://localhost:8080/"
        },
        "outputId": "ca20ad4f-29ba-4233-904b-72871d838094"
      },
      "execution_count": 33,
      "outputs": [
        {
          "output_type": "stream",
          "name": "stdout",
          "text": [
            "tf.Tensor(\n",
            "[[3.60555128]\n",
            " [7.21110255]], shape=(2, 1), dtype=float64)\n"
          ]
        }
      ]
    },
    {
      "cell_type": "code",
      "source": [
        "x_1 = tf.constant([\n",
        "    [2, 3, -1],\n",
        "    [4, -6, 7]\n",
        "])\n",
        "x_2 = tf.constant([\n",
        "    [1, 3, -1],\n",
        "    [4, 2, 0]\n",
        "])\n",
        "print(tf.add(x_1, x_2))"
      ],
      "metadata": {
        "colab": {
          "base_uri": "https://localhost:8080/"
        },
        "id": "-cdzy4jn4Bev",
        "outputId": "a918877f-5a56-4ff6-e55f-e57efc285bbe"
      },
      "execution_count": 34,
      "outputs": [
        {
          "output_type": "stream",
          "name": "stdout",
          "text": [
            "tf.Tensor(\n",
            "[[ 3  6 -2]\n",
            " [ 8 -4  7]], shape=(2, 3), dtype=int32)\n"
          ]
        }
      ]
    },
    {
      "cell_type": "code",
      "source": [
        "tf.multiply(x_1, x_2)"
      ],
      "metadata": {
        "colab": {
          "base_uri": "https://localhost:8080/"
        },
        "id": "e1GSxDH05L98",
        "outputId": "bf77bb88-695b-45d6-b341-cd472f828ba0"
      },
      "execution_count": 35,
      "outputs": [
        {
          "output_type": "execute_result",
          "data": {
            "text/plain": [
              "<tf.Tensor: shape=(2, 3), dtype=int32, numpy=\n",
              "array([[  2,   9,   1],\n",
              "       [ 16, -12,   0]], dtype=int32)>"
            ]
          },
          "metadata": {},
          "execution_count": 35
        }
      ]
    },
    {
      "cell_type": "code",
      "source": [
        "tf.subtract(x_1, x_2)"
      ],
      "metadata": {
        "colab": {
          "base_uri": "https://localhost:8080/"
        },
        "id": "nUdWDxDK5Uyw",
        "outputId": "ab34d3c7-b0a7-42bf-8e44-d1455317761d"
      },
      "execution_count": 36,
      "outputs": [
        {
          "output_type": "execute_result",
          "data": {
            "text/plain": [
              "<tf.Tensor: shape=(2, 3), dtype=int32, numpy=\n",
              "array([[ 1,  0,  0],\n",
              "       [ 0, -8,  7]], dtype=int32)>"
            ]
          },
          "metadata": {},
          "execution_count": 36
        }
      ]
    },
    {
      "cell_type": "code",
      "source": [
        "tf.math.divide(x_1, x_2)"
      ],
      "metadata": {
        "colab": {
          "base_uri": "https://localhost:8080/"
        },
        "id": "AkbTDV-h5YGE",
        "outputId": "a460b0b8-8c9a-4c36-90d1-e4dddd14bc56"
      },
      "execution_count": 37,
      "outputs": [
        {
          "output_type": "execute_result",
          "data": {
            "text/plain": [
              "<tf.Tensor: shape=(2, 3), dtype=float64, numpy=\n",
              "array([[ 2.,  1.,  1.],\n",
              "       [ 1., -3., inf]])>"
            ]
          },
          "metadata": {},
          "execution_count": 37
        }
      ]
    },
    {
      "cell_type": "code",
      "source": [
        "tf.math.divide_no_nan(x_1, x_2)"
      ],
      "metadata": {
        "colab": {
          "base_uri": "https://localhost:8080/"
        },
        "id": "sFocDozm5cgP",
        "outputId": "c1271912-81e7-466b-b797-7f33e32fe080"
      },
      "execution_count": 38,
      "outputs": [
        {
          "output_type": "execute_result",
          "data": {
            "text/plain": [
              "<tf.Tensor: shape=(2, 3), dtype=float64, numpy=\n",
              "array([[ 2.,  1.,  1.],\n",
              "       [ 1., -3.,  0.]])>"
            ]
          },
          "metadata": {},
          "execution_count": 38
        }
      ]
    },
    {
      "cell_type": "code",
      "source": [
        "x_3 = tf.constant([\n",
        "    [2, 3, -1],\n",
        "    [4, -6, 7]], dtype=tf.float32)\n",
        "\n",
        "x_4 = tf.constant([7], dtype=tf.float32)\n",
        "\n",
        "x_5 = tf.constant([[7, 7, 7]], dtype=tf.float32)"
      ],
      "metadata": {
        "id": "dQign0AXF5tR"
      },
      "execution_count": 39,
      "outputs": []
    },
    {
      "cell_type": "code",
      "source": [
        "print(tf.math.multiply(x_3, x_4))\n",
        "\n",
        "print(tf.math.multiply(x_3, x_5))"
      ],
      "metadata": {
        "colab": {
          "base_uri": "https://localhost:8080/"
        },
        "id": "oomMTsLRHiB2",
        "outputId": "c5b1eea3-3bfa-47aa-85ec-7ab9787ff998"
      },
      "execution_count": 40,
      "outputs": [
        {
          "output_type": "stream",
          "name": "stdout",
          "text": [
            "tf.Tensor(\n",
            "[[ 14.  21.  -7.]\n",
            " [ 28. -42.  49.]], shape=(2, 3), dtype=float32)\n",
            "tf.Tensor(\n",
            "[[ 14.  21.  -7.]\n",
            " [ 28. -42.  49.]], shape=(2, 3), dtype=float32)\n"
          ]
        }
      ]
    },
    {
      "cell_type": "code",
      "source": [
        "print(tf.math.multiply(x_3, tf.broadcast_to(x_4, [2, 3])))"
      ],
      "metadata": {
        "colab": {
          "base_uri": "https://localhost:8080/"
        },
        "id": "nLWTCXXiH1zq",
        "outputId": "3bf04c90-9bba-417a-aacb-926b268bfeb7"
      },
      "execution_count": 41,
      "outputs": [
        {
          "output_type": "stream",
          "name": "stdout",
          "text": [
            "tf.Tensor(\n",
            "[[ 14.  21.  -7.]\n",
            " [ 28. -42.  49.]], shape=(2, 3), dtype=float32)\n"
          ]
        }
      ]
    },
    {
      "cell_type": "code",
      "source": [
        "x_6 = tf.constant([5,7,9, 5, 1])\n",
        "x_7 = tf.constant([\n",
        "                    [2, 4, 8],\n",
        "                    [3,4, -2]\n",
        "                    ])"
      ],
      "metadata": {
        "id": "khIoDCGOIydJ"
      },
      "execution_count": 42,
      "outputs": []
    },
    {
      "cell_type": "code",
      "source": [
        "x_argmax = tf.math.argmax(x_6)\n",
        "print(x_argmax)"
      ],
      "metadata": {
        "colab": {
          "base_uri": "https://localhost:8080/"
        },
        "id": "0Y58N8cmVriK",
        "outputId": "e3554d83-681a-4ea9-879f-0df04f183455"
      },
      "execution_count": 43,
      "outputs": [
        {
          "output_type": "stream",
          "name": "stdout",
          "text": [
            "tf.Tensor(2, shape=(), dtype=int64)\n"
          ]
        }
      ]
    },
    {
      "cell_type": "code",
      "source": [
        "print(tf.math.argmax(x_7, axis=0))"
      ],
      "metadata": {
        "colab": {
          "base_uri": "https://localhost:8080/"
        },
        "id": "bQQ89_GAWX7c",
        "outputId": "e07a1efa-1602-4f8c-f10c-fb3b0b7a26ec"
      },
      "execution_count": 44,
      "outputs": [
        {
          "output_type": "stream",
          "name": "stdout",
          "text": [
            "tf.Tensor([1 0 0], shape=(3,), dtype=int64)\n"
          ]
        }
      ]
    },
    {
      "cell_type": "code",
      "source": [
        "print(tf.math.argmin(x_7, axis=1))"
      ],
      "metadata": {
        "colab": {
          "base_uri": "https://localhost:8080/"
        },
        "id": "-umx8p2mWgfN",
        "outputId": "1b6de205-d57f-4437-c9a0-abfd49f28cc9"
      },
      "execution_count": 45,
      "outputs": [
        {
          "output_type": "stream",
          "name": "stdout",
          "text": [
            "tf.Tensor([0 2], shape=(2,), dtype=int64)\n"
          ]
        }
      ]
    },
    {
      "cell_type": "code",
      "source": [
        "x = tf.constant([\n",
        "    [2, 3, -1],\n",
        "    [4, -6, 7]\n",
        "])\n",
        "y = tf.constant([\n",
        "    [1, 3, -1],\n",
        "    [4, 2, 0]\n",
        "])\n",
        "\n",
        "print(tf.math.reduce_sum(x))\n",
        "print(tf.math.reduce_sum(y))"
      ],
      "metadata": {
        "colab": {
          "base_uri": "https://localhost:8080/"
        },
        "id": "OoAnhQz5Wz6X",
        "outputId": "62dca753-ee81-43af-8856-8eea3df4e2d6"
      },
      "execution_count": 46,
      "outputs": [
        {
          "output_type": "stream",
          "name": "stdout",
          "text": [
            "tf.Tensor(9, shape=(), dtype=int32)\n",
            "tf.Tensor(9, shape=(), dtype=int32)\n"
          ]
        }
      ]
    },
    {
      "cell_type": "code",
      "source": [
        "print(tf.math.equal(x, y))"
      ],
      "metadata": {
        "colab": {
          "base_uri": "https://localhost:8080/"
        },
        "id": "a6gOT5g5XJji",
        "outputId": "bd102eec-5f0a-47f4-9bb5-496094906eda"
      },
      "execution_count": 47,
      "outputs": [
        {
          "output_type": "stream",
          "name": "stdout",
          "text": [
            "tf.Tensor(\n",
            "[[False  True  True]\n",
            " [ True False False]], shape=(2, 3), dtype=bool)\n"
          ]
        }
      ]
    },
    {
      "cell_type": "code",
      "source": [
        "x_pow = tf.constant([\n",
        "    [2, 3, -1],\n",
        "    [4, -6, 7]\n",
        "])\n",
        "y_pow = tf.constant([\n",
        "    [1, 3, -1],\n",
        "    [4, 2, 0]\n",
        "])\n",
        "\n",
        "print(tf.math.pow(abs(x_pow), abs(y_pow)))"
      ],
      "metadata": {
        "colab": {
          "base_uri": "https://localhost:8080/"
        },
        "id": "WB8-UcIbXeiW",
        "outputId": "1ae20805-39e7-4052-d4f2-3172a3cced48"
      },
      "execution_count": 48,
      "outputs": [
        {
          "output_type": "stream",
          "name": "stdout",
          "text": [
            "tf.Tensor(\n",
            "[[  2  27   1]\n",
            " [256  36   1]], shape=(2, 3), dtype=int32)\n"
          ]
        }
      ]
    },
    {
      "cell_type": "code",
      "source": [
        "print(tf.math.reduce_sum(x_pow, axis=0))\n",
        "print(tf.math.reduce_mean(x_pow, axis=1))"
      ],
      "metadata": {
        "id": "61rVwyKBY8LQ",
        "colab": {
          "base_uri": "https://localhost:8080/"
        },
        "outputId": "cfb9d4d3-50dc-4f08-ad49-a629acbbaeac"
      },
      "execution_count": 49,
      "outputs": [
        {
          "output_type": "stream",
          "name": "stdout",
          "text": [
            "tf.Tensor([ 6 -3  6], shape=(3,), dtype=int32)\n",
            "tf.Tensor([1 1], shape=(2,), dtype=int32)\n"
          ]
        }
      ]
    },
    {
      "cell_type": "code",
      "source": [
        "print(tf.reduce_max(y_pow, axis=0,))\n",
        "print(tf.reduce_min(y_pow, axis=1))"
      ],
      "metadata": {
        "id": "Uiq3ARBzfRnw",
        "colab": {
          "base_uri": "https://localhost:8080/"
        },
        "outputId": "8bc5fccf-0960-4635-9601-5944173003a7"
      },
      "execution_count": 50,
      "outputs": [
        {
          "output_type": "stream",
          "name": "stdout",
          "text": [
            "tf.Tensor([4 3 0], shape=(3,), dtype=int32)\n",
            "tf.Tensor([-1  0], shape=(2,), dtype=int32)\n"
          ]
        }
      ]
    },
    {
      "cell_type": "code",
      "source": [
        "v_pow = tf.constant([\n",
        "    [2, 3, -1],\n",
        "    [4, -6, 7]\n",
        "], dtype=tf.float32)\n",
        "print(tf.math.reduce_prod(v_pow))"
      ],
      "metadata": {
        "colab": {
          "base_uri": "https://localhost:8080/"
        },
        "id": "BYC3lLoL-PsO",
        "outputId": "34e4048c-82ca-42f2-8451-3659b203d550"
      },
      "execution_count": 51,
      "outputs": [
        {
          "output_type": "stream",
          "name": "stdout",
          "text": [
            "tf.Tensor(1008.0, shape=(), dtype=float32)\n"
          ]
        }
      ]
    },
    {
      "cell_type": "code",
      "source": [
        "print(tf.math.reduce_std(v_pow))\n",
        "print(tf.math.reduce_variance(v_pow))"
      ],
      "metadata": {
        "colab": {
          "base_uri": "https://localhost:8080/"
        },
        "id": "sroar2JD95GB",
        "outputId": "74f37726-18b4-4efa-8eaf-1b28fa13a3e8"
      },
      "execution_count": 52,
      "outputs": [
        {
          "output_type": "stream",
          "name": "stdout",
          "text": [
            "tf.Tensor(4.1129875, shape=(), dtype=float32)\n",
            "tf.Tensor(16.916666, shape=(), dtype=float32)\n"
          ]
        }
      ]
    },
    {
      "cell_type": "code",
      "source": [
        "sig_tf = tf.constant([2, 4, 1, 0, 10], dtype=tf.float16)\n",
        "print(tf.math.sigmoid(sig_tf))"
      ],
      "metadata": {
        "colab": {
          "base_uri": "https://localhost:8080/"
        },
        "id": "EWWLBUFs63Lt",
        "outputId": "6a06e65a-8f58-46c4-d410-ef42907b072b"
      },
      "execution_count": 53,
      "outputs": [
        {
          "output_type": "stream",
          "name": "stdout",
          "text": [
            "tf.Tensor([0.881 0.982 0.731 0.5   1.   ], shape=(5,), dtype=float16)\n"
          ]
        }
      ]
    },
    {
      "cell_type": "code",
      "source": [
        "print(tf.math.top_k(sig_tf, k=3))"
      ],
      "metadata": {
        "colab": {
          "base_uri": "https://localhost:8080/"
        },
        "id": "Nd5eEUd27mrp",
        "outputId": "8355b7f4-1b3c-4540-814d-69c78fc68f6c"
      },
      "execution_count": 54,
      "outputs": [
        {
          "output_type": "stream",
          "name": "stdout",
          "text": [
            "TopKV2(values=<tf.Tensor: shape=(3,), dtype=float16, numpy=array([10.,  4.,  2.], dtype=float16)>, indices=<tf.Tensor: shape=(3,), dtype=int32, numpy=array([4, 1, 0], dtype=int32)>)\n"
          ]
        }
      ]
    },
    {
      "cell_type": "markdown",
      "source": [
        "TensorFlow Linear Algebra Operations"
      ],
      "metadata": {
        "id": "wXj3Iv2P8McY"
      }
    },
    {
      "cell_type": "code",
      "source": [
        "k_1 = tf.constant([\n",
        "    [2, 3, -1],\n",
        "    [4, -6, 7]\n",
        "])\n",
        "k_2 = tf.constant([\n",
        "    [1, 3, -1],\n",
        "    [4, 2, 0],\n",
        "    [3, 2, 7]\n",
        "])\n",
        "\n",
        "k_3 = tf.constant([\n",
        "    [1, 3, -1],\n",
        "    [4, 2, 0]\n",
        "])\n",
        "\n",
        "print(k_1.shape)\n",
        "print(k_2.shape)\n",
        "\n",
        "print(tf.linalg.matmul(k_1, k_2))"
      ],
      "metadata": {
        "colab": {
          "base_uri": "https://localhost:8080/"
        },
        "id": "N2nTQGlnFUJX",
        "outputId": "645de95c-8099-4ad7-9529-96ad28473f65"
      },
      "execution_count": 55,
      "outputs": [
        {
          "output_type": "stream",
          "name": "stdout",
          "text": [
            "(2, 3)\n",
            "(3, 3)\n",
            "tf.Tensor(\n",
            "[[11 10 -9]\n",
            " [ 1 14 45]], shape=(2, 3), dtype=int32)\n"
          ]
        }
      ]
    },
    {
      "cell_type": "code",
      "source": [
        "k_1@k_2"
      ],
      "metadata": {
        "colab": {
          "base_uri": "https://localhost:8080/"
        },
        "id": "EV-Af_WVGGB4",
        "outputId": "74ad6a7e-9166-4da9-cb4c-4bad1e47512c"
      },
      "execution_count": 56,
      "outputs": [
        {
          "output_type": "execute_result",
          "data": {
            "text/plain": [
              "<tf.Tensor: shape=(2, 3), dtype=int32, numpy=\n",
              "array([[11, 10, -9],\n",
              "       [ 1, 14, 45]], dtype=int32)>"
            ]
          },
          "metadata": {},
          "execution_count": 56
        }
      ]
    },
    {
      "cell_type": "code",
      "source": [
        "print(tf.transpose(k_2))\n",
        "print(k_2)"
      ],
      "metadata": {
        "colab": {
          "base_uri": "https://localhost:8080/"
        },
        "id": "_sx41gUpGP8d",
        "outputId": "60986818-ba17-4771-d730-1b99ea159d96"
      },
      "execution_count": 57,
      "outputs": [
        {
          "output_type": "stream",
          "name": "stdout",
          "text": [
            "tf.Tensor(\n",
            "[[ 1  4  3]\n",
            " [ 3  2  2]\n",
            " [-1  0  7]], shape=(3, 3), dtype=int32)\n",
            "tf.Tensor(\n",
            "[[ 1  3 -1]\n",
            " [ 4  2  0]\n",
            " [ 3  2  7]], shape=(3, 3), dtype=int32)\n"
          ]
        }
      ]
    },
    {
      "cell_type": "code",
      "source": [
        "matmul = tf.linalg.matmul(\n",
        "    k_1,\n",
        "    k_3,\n",
        "    transpose_a=False,\n",
        "    transpose_b=True,\n",
        "    adjoint_a=False,\n",
        "    adjoint_b=False,\n",
        "    a_is_sparse=False,\n",
        "    b_is_sparse=False,\n",
        "    output_type=None,\n",
        "    name=None\n",
        ")\n",
        "\n",
        "print(matmul)"
      ],
      "metadata": {
        "colab": {
          "base_uri": "https://localhost:8080/"
        },
        "id": "Mj5nYbzMNcYt",
        "outputId": "e19b6895-de57-425c-84e3-17bccb209de1"
      },
      "execution_count": 58,
      "outputs": [
        {
          "output_type": "stream",
          "name": "stdout",
          "text": [
            "tf.Tensor(\n",
            "[[ 12  14]\n",
            " [-21   4]], shape=(2, 2), dtype=int32)\n"
          ]
        }
      ]
    },
    {
      "cell_type": "code",
      "source": [
        "print(x_1, x_3)"
      ],
      "metadata": {
        "colab": {
          "base_uri": "https://localhost:8080/"
        },
        "id": "yHfAs7LvegKx",
        "outputId": "8e70d8f4-7c8d-4863-922e-4aa3370ff4ff"
      },
      "execution_count": 59,
      "outputs": [
        {
          "output_type": "stream",
          "name": "stdout",
          "text": [
            "tf.Tensor(\n",
            "[[ 2  3 -1]\n",
            " [ 4 -6  7]], shape=(2, 3), dtype=int32) tf.Tensor(\n",
            "[[ 2.  3. -1.]\n",
            " [ 4. -6.  7.]], shape=(2, 3), dtype=float32)\n"
          ]
        }
      ]
    },
    {
      "cell_type": "code",
      "source": [
        "matrix1 = tf.constant([\n",
        "               [ 0,  1,  2, 3],\n",
        "               [-1,  0,  1, 2],\n",
        "               [-2, -1,  0, 1],\n",
        "               [-3, -2, -1, 0]])\n",
        "\n",
        "# tf.linalg.band_part(input, 1, -1) ==> [[ 0,  1,  2, 3]\n",
        "#                                        [-1,  0,  1, 2]\n",
        "#                                        [ 0, -1,  0, 1]\n",
        "#                                        [ 0,  0, -1, 0]],\n",
        "\n",
        "# tf.linalg.band_part(input, 2, 1) ==> [[ 0,  1,  0, 0]\n",
        "#                                       [-1,  0,  1, 0]\n",
        "#                                       [-2, -1,  0, 1]\n",
        "#                                       [ 0, -2, -1, 0]]"
      ],
      "metadata": {
        "id": "e_1ANHWxgIdz"
      },
      "execution_count": 60,
      "outputs": []
    },
    {
      "cell_type": "code",
      "source": [
        "print(tf.linalg.band_part(matrix1, 1, -1))\n",
        "print(tf.linalg.band_part(matrix1, 0, -1))\n",
        "print(tf.linalg.band_part(matrix1, -1, 0))\n",
        "print(tf.linalg.band_part(matrix1, 2, 1))"
      ],
      "metadata": {
        "id": "-NDrCp6NjgcT",
        "colab": {
          "base_uri": "https://localhost:8080/"
        },
        "outputId": "e6d32f0f-db74-4268-df4f-b315237b3915"
      },
      "execution_count": 61,
      "outputs": [
        {
          "output_type": "stream",
          "name": "stdout",
          "text": [
            "tf.Tensor(\n",
            "[[ 0  1  2  3]\n",
            " [-1  0  1  2]\n",
            " [ 0 -1  0  1]\n",
            " [ 0  0 -1  0]], shape=(4, 4), dtype=int32)\n",
            "tf.Tensor(\n",
            "[[0 1 2 3]\n",
            " [0 0 1 2]\n",
            " [0 0 0 1]\n",
            " [0 0 0 0]], shape=(4, 4), dtype=int32)\n",
            "tf.Tensor(\n",
            "[[ 0  0  0  0]\n",
            " [-1  0  0  0]\n",
            " [-2 -1  0  0]\n",
            " [-3 -2 -1  0]], shape=(4, 4), dtype=int32)\n",
            "tf.Tensor(\n",
            "[[ 0  1  0  0]\n",
            " [-1  0  1  0]\n",
            " [-2 -1  0  1]\n",
            " [ 0 -2 -1  0]], shape=(4, 4), dtype=int32)\n"
          ]
        }
      ]
    },
    {
      "cell_type": "code",
      "source": [
        "tensor_2d_sqr = tf.constant([\n",
        "    [2, 3, -1],\n",
        "    [4, -6, 7]\n",
        "])\n",
        "print(tf.linalg.diag(tensor_2d_sqr))"
      ],
      "metadata": {
        "id": "6h5GYxWgo2F8",
        "colab": {
          "base_uri": "https://localhost:8080/"
        },
        "outputId": "ba640467-bb14-489f-9674-76ebc9a60bec"
      },
      "execution_count": 62,
      "outputs": [
        {
          "output_type": "stream",
          "name": "stdout",
          "text": [
            "tf.Tensor(\n",
            "[[[ 2  0  0]\n",
            "  [ 0  3  0]\n",
            "  [ 0  0 -1]]\n",
            "\n",
            " [[ 4  0  0]\n",
            "  [ 0 -6  0]\n",
            "  [ 0  0  7]]], shape=(2, 3, 3), dtype=int32)\n"
          ]
        }
      ]
    },
    {
      "cell_type": "code",
      "source": [
        "tensor_2d_square = tf.constant([\n",
        "    [2, 3, -1],\n",
        "    [4, -6, 7],\n",
        "    [3, 2, 7]\n",
        "], dtype= tf.float32)\n",
        "print(tf.linalg.det(tensor_2d_square))"
      ],
      "metadata": {
        "colab": {
          "base_uri": "https://localhost:8080/"
        },
        "id": "TosuX9AlUR45",
        "outputId": "f3149ebb-ccb3-42bb-db8c-bd9748d738e7"
      },
      "execution_count": 65,
      "outputs": [
        {
          "output_type": "stream",
          "name": "stdout",
          "text": [
            "tf.Tensor(-159.00003, shape=(), dtype=float32)\n"
          ]
        }
      ]
    },
    {
      "cell_type": "code",
      "source": [
        "print(tf.linalg.inv(tensor_2d_square))"
      ],
      "metadata": {
        "colab": {
          "base_uri": "https://localhost:8080/"
        },
        "id": "v0pWOn1fUlZE",
        "outputId": "6e6b2a62-5be2-46b7-e7cf-3b5d3ce4ee95"
      },
      "execution_count": 66,
      "outputs": [
        {
          "output_type": "stream",
          "name": "stdout",
          "text": [
            "tf.Tensor(\n",
            "[[ 0.35220128  0.1446541  -0.09433962]\n",
            " [ 0.04402516 -0.10691824  0.11320755]\n",
            " [-0.16352202 -0.03144655  0.1509434 ]], shape=(3, 3), dtype=float32)\n"
          ]
        }
      ]
    },
    {
      "cell_type": "code",
      "source": [
        "print(tf.linalg.matrix_rank(tensor_2d_square))"
      ],
      "metadata": {
        "colab": {
          "base_uri": "https://localhost:8080/"
        },
        "id": "XKAnpQKIU1-4",
        "outputId": "7f8264a4-dac1-481b-d1d8-4a7dc7b94269"
      },
      "execution_count": 67,
      "outputs": [
        {
          "output_type": "stream",
          "name": "stdout",
          "text": [
            "tf.Tensor(3, shape=(), dtype=int32)\n"
          ]
        }
      ]
    },
    {
      "cell_type": "code",
      "source": [
        "s, u, v = tf.linalg.svd(tensor_2d_square)\n",
        "print(s)\n",
        "print(u)\n",
        "print(v)"
      ],
      "metadata": {
        "colab": {
          "base_uri": "https://localhost:8080/"
        },
        "id": "Xl29f7K_Wktj",
        "outputId": "be779f6d-b68f-4ec0-9dee-e5d32406eaec"
      },
      "execution_count": 69,
      "outputs": [
        {
          "output_type": "stream",
          "name": "stdout",
          "text": [
            "tf.Tensor([11.63179    6.049426   2.2596252], shape=(3,), dtype=float32)\n",
            "tf.Tensor(\n",
            "[[-0.09378729  0.49606258  0.8632069 ]\n",
            " [ 0.8306263  -0.43901005  0.34253517]\n",
            " [ 0.5488754   0.74912757 -0.370869  ]], shape=(3, 3), dtype=float32)\n",
            "tf.Tensor(\n",
            "[[ 0.41107652  0.24522455  0.87799823]\n",
            " [-0.35827392  0.9290969  -0.0917534 ]\n",
            " [ 0.8382457   0.27684623 -0.46978748]], shape=(3, 3), dtype=float32)\n"
          ]
        }
      ]
    },
    {
      "cell_type": "code",
      "source": [],
      "metadata": {
        "id": "aaOaYDLeWvmH"
      },
      "execution_count": null,
      "outputs": []
    }
  ]
}