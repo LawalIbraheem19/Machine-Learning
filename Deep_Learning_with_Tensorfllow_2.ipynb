{
  "nbformat": 4,
  "nbformat_minor": 0,
  "metadata": {
    "colab": {
      "provenance": [],
      "authorship_tag": "ABX9TyNezXD0jaQ6SZfOW4XIV8cs",
      "include_colab_link": true
    },
    "kernelspec": {
      "name": "python3",
      "display_name": "Python 3"
    },
    "language_info": {
      "name": "python"
    }
  },
  "cells": [
    {
      "cell_type": "markdown",
      "metadata": {
        "id": "view-in-github",
        "colab_type": "text"
      },
      "source": [
        "<a href=\"https://colab.research.google.com/github/LawalIbraheem19/Machine-Learning/blob/main/Deep_Learning_with_Tensorfllow_2.ipynb\" target=\"_parent\"><img src=\"https://colab.research.google.com/assets/colab-badge.svg\" alt=\"Open In Colab\"/></a>"
      ]
    },
    {
      "cell_type": "code",
      "execution_count": 2,
      "metadata": {
        "id": "XtCtD0fecDJ8"
      },
      "outputs": [],
      "source": [
        "import numpy as np"
      ]
    },
    {
      "cell_type": "code",
      "source": [
        "A = np.random.rand(3,4)\n",
        "B = np.random.rand(4,5)\n",
        "\n",
        "print(A.shape)\n",
        "print(B.shape)"
      ],
      "metadata": {
        "colab": {
          "base_uri": "https://localhost:8080/"
        },
        "id": "hojs0XHfcQdu",
        "outputId": "ac6064e6-8ad6-4224-f8fa-b454a2ac103a"
      },
      "execution_count": 3,
      "outputs": [
        {
          "output_type": "stream",
          "name": "stdout",
          "text": [
            "(3, 4)\n",
            "(4, 5)\n"
          ]
        }
      ]
    },
    {
      "cell_type": "code",
      "source": [
        "print(f\"The matrix multiplication of A and B is: \\n {np.matmul(A,B)}\")\n",
        "print(\"\\n\")\n",
        "print(\"The einsum of A and B is: \\n\", np.einsum('ij,jk->ik', A,B))"
      ],
      "metadata": {
        "colab": {
          "base_uri": "https://localhost:8080/"
        },
        "id": "BOsYwz69cx1h",
        "outputId": "033112c0-41d5-4065-b1c8-5e4d611d2e87"
      },
      "execution_count": 4,
      "outputs": [
        {
          "output_type": "stream",
          "name": "stdout",
          "text": [
            "The matrix multiplication of A and B is: \n",
            " [[1.07051592 1.0656051  0.41992572 0.67635689 0.41852395]\n",
            " [1.22101534 1.46514519 0.87152026 1.00069121 0.84051881]\n",
            " [1.83345472 1.86658035 0.77091993 1.2550035  0.70634184]]\n",
            "\n",
            "\n",
            "The einsum of A and B is: \n",
            " [[1.07051592 1.0656051  0.41992572 0.67635689 0.41852395]\n",
            " [1.22101534 1.46514519 0.87152026 1.00069121 0.84051881]\n",
            " [1.83345472 1.86658035 0.77091993 1.2550035  0.70634184]]\n"
          ]
        }
      ]
    },
    {
      "cell_type": "code",
      "source": [
        "A = np.random.rand(4,4)\n",
        "B = np.random.rand(4,4)\n",
        "\n",
        "print(A.shape)\n",
        "print(B.shape)\n",
        "\n",
        "\n",
        "print(f\"Hardmard product of A and B is: \\n {np.multiply(A,B)}\")\n",
        "print(\"\\n\")\n",
        "print(\"The einsum of A and B is: \\n\", np.einsum('ij,ij->i', A,B))"
      ],
      "metadata": {
        "colab": {
          "base_uri": "https://localhost:8080/"
        },
        "id": "kugi55bYc_3K",
        "outputId": "1fc33f87-0b79-4ab9-d351-6cd6e6236129"
      },
      "execution_count": 5,
      "outputs": [
        {
          "output_type": "stream",
          "name": "stdout",
          "text": [
            "(4, 4)\n",
            "(4, 4)\n",
            "Hardmard product of A and B is: \n",
            " [[0.37712004 0.01123106 0.2640802  0.75712982]\n",
            " [0.53214617 0.16567568 0.24507827 0.23127055]\n",
            " [0.42010727 0.01575599 0.18306356 0.17386093]\n",
            " [0.0102356  0.61828196 0.06369582 0.1148784 ]]\n",
            "\n",
            "\n",
            "The einsum of A and B is: \n",
            " [1.40956111 1.17417066 0.79278774 0.80709177]\n"
          ]
        }
      ]
    },
    {
      "cell_type": "code",
      "source": [
        "A = np.random.rand(3,4)\n",
        "\n",
        "print(A.shape,\"\\n\")\n",
        "\n",
        "print(A)\n",
        "print(\"\\n\")\n",
        "\n",
        "print(f\"The transpose of A is: \\n {A.T}\")\n",
        "print(\"\\n\")\n",
        "print(\"The einsum transpose of A is: \\n\", np.einsum(\"ij->ij\", A))"
      ],
      "metadata": {
        "colab": {
          "base_uri": "https://localhost:8080/"
        },
        "id": "BcNcYdDHhXUR",
        "outputId": "f5e4df99-0b26-4999-b8a0-6d36d38bae86"
      },
      "execution_count": 20,
      "outputs": [
        {
          "output_type": "stream",
          "name": "stdout",
          "text": [
            "(3, 4) \n",
            "\n",
            "[[0.51100616 0.08681005 0.40330622 0.36114792]\n",
            " [0.73507881 0.82477908 0.95543939 0.22192394]\n",
            " [0.30780885 0.25836665 0.08991779 0.44027266]]\n",
            "\n",
            "\n",
            "The transpose of A is: \n",
            " [[0.51100616 0.73507881 0.30780885]\n",
            " [0.08681005 0.82477908 0.25836665]\n",
            " [0.40330622 0.95543939 0.08991779]\n",
            " [0.36114792 0.22192394 0.44027266]]\n",
            "\n",
            "\n",
            "The einsum transpose of A is: \n",
            " [[0.51100616 0.08681005 0.40330622 0.36114792]\n",
            " [0.73507881 0.82477908 0.95543939 0.22192394]\n",
            " [0.30780885 0.25836665 0.08991779 0.44027266]]\n"
          ]
        }
      ]
    },
    {
      "cell_type": "code",
      "source": [
        "A_3d = np.array([\n",
        "    [\n",
        "        [1,2,3,4],\n",
        "        [4,5,6,7],\n",
        "        [7,8,9,10]\n",
        "    ],\n",
        "    [\n",
        "        [8,9,10,11],\n",
        "        [12,13,14,15],\n",
        "        [16,17,18,19]\n",
        "    ]\n",
        "\n",
        "    ]\n",
        "                )\n",
        "\n",
        "B_3d = np.array([\n",
        "    [\n",
        "        [1,2,3,4,5],\n",
        "        [4,5,6,7,8],\n",
        "        [7,8,9,10,11],\n",
        "        [12,13,14,15,16]\n",
        "    ],\n",
        "    [\n",
        "        [8,9,10,11,12],\n",
        "        [12,13,14,15,16],\n",
        "        [16,17,18,19,20],\n",
        "        [21,22,23,24,25]\n",
        "    ]\n",
        "\n",
        "    ]\n",
        "                )\n",
        "\n",
        "print(A_3d.shape)\n",
        "print(B_3d.shape)\n",
        "\n",
        "\n",
        "print(\"Batch Multiplication C \\n\")\n",
        "print(np.matmul(A_3d,B_3d), \"\\n\")\n",
        "\n",
        "print(\"The einsum C`=A*B \\n\")\n",
        "print(np.einsum('bij,bjk->bik', A_3d,B_3d), \"\\n\")\n",
        "\n"
      ],
      "metadata": {
        "colab": {
          "base_uri": "https://localhost:8080/"
        },
        "id": "ztxYSAJi18gQ",
        "outputId": "047f8497-2232-4790-d384-a23472fe3c11"
      },
      "execution_count": 16,
      "outputs": [
        {
          "output_type": "stream",
          "name": "stdout",
          "text": [
            "(2, 3, 4)\n",
            "(2, 4, 5)\n",
            "Batch Multiplication C \n",
            "\n",
            "[[[  78   88   98  108  118]\n",
            "  [ 150  172  194  216  238]\n",
            "  [ 222  256  290  324  358]]\n",
            "\n",
            " [[ 563  601  639  677  715]\n",
            "  [ 791  845  899  953 1007]\n",
            "  [1019 1089 1159 1229 1299]]] \n",
            "\n",
            "The einsum C`=A*B \n",
            "\n",
            "[[[  78   88   98  108  118]\n",
            "  [ 150  172  194  216  238]\n",
            "  [ 222  256  290  324  358]]\n",
            "\n",
            " [[ 563  601  639  677  715]\n",
            "  [ 791  845  899  953 1007]\n",
            "  [1019 1089 1159 1229 1299]]] \n",
            "\n"
          ]
        }
      ]
    },
    {
      "cell_type": "code",
      "source": [
        "A = np.random.rand(3,4)\n",
        "\n",
        "print(A.shape,\"\\n\")\n",
        "\n",
        "print(\"Axis A sum \\n\")\n",
        "print(np.sum(A, axis=0), \"\\n\")\n",
        "\n",
        "print(\"The einsum A sum \\n\")\n",
        "print(np.einsum('ij->j', A), \"\\n\")\n",
        "\n",
        "\n",
        "print(\"Axis A sum \\n\")\n",
        "print(np.sum(A, axis=1), \"\\n\")\n",
        "\n",
        "print(\"The einsum A sum \\n\")\n",
        "print(np.einsum('ij->i', A), \"\\n\")"
      ],
      "metadata": {
        "colab": {
          "base_uri": "https://localhost:8080/"
        },
        "id": "11jw-yQ58N6d",
        "outputId": "fe6711ac-afe5-4803-df39-f232274c3012"
      },
      "execution_count": 19,
      "outputs": [
        {
          "output_type": "stream",
          "name": "stdout",
          "text": [
            "(3, 4) \n",
            "\n",
            "Axis A sum \n",
            "\n",
            "[1.91348868 1.57273669 0.95172592 1.55747335] \n",
            "\n",
            "The einsum A sum \n",
            "\n",
            "[1.91348868 1.57273669 0.95172592 1.55747335] \n",
            "\n",
            "Axis A sum \n",
            "\n",
            "[1.71640567 1.97791768 2.30110129] \n",
            "\n",
            "The einsum A sum \n",
            "\n",
            "[1.71640567 1.97791768 2.30110129] \n",
            "\n"
          ]
        }
      ]
    },
    {
      "cell_type": "markdown",
      "source": [
        "Q = batchsize, s_q, model_size\n",
        "K = batchsize, s_k, model_size"
      ],
      "metadata": {
        "id": "8dF8Uldo976R"
      }
    },
    {
      "cell_type": "code",
      "source": [
        "Q = np.random.rand(32, 64, 512)\n",
        "K = np.random.rand(32, 128, 512)"
      ],
      "metadata": {
        "id": "NxHrM4kLCzZZ"
      },
      "execution_count": 21,
      "outputs": []
    },
    {
      "cell_type": "code",
      "source": [
        "print(np.einsum(\"bqm,bkm -> bqk\", Q,K).shape)"
      ],
      "metadata": {
        "colab": {
          "base_uri": "https://localhost:8080/"
        },
        "id": "qdyJzCZBDMDm",
        "outputId": "f7d19688-0692-4dc7-9d18-5a88fac39cbd"
      },
      "execution_count": 26,
      "outputs": [
        {
          "output_type": "stream",
          "name": "stdout",
          "text": [
            "(32, 64, 128)\n"
          ]
        }
      ]
    },
    {
      "cell_type": "code",
      "source": [],
      "metadata": {
        "id": "aX4KsPP7DO7p"
      },
      "execution_count": null,
      "outputs": []
    }
  ]
}